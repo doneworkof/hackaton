{
 "cells": [
  {
   "cell_type": "code",
   "execution_count": 3,
   "metadata": {},
   "outputs": [],
   "source": [
    "# Импорт библиотек\n",
    "import pandas as pd\n",
    "import numpy as np\n",
    "\n",
    "from funcs import *\n",
    "\n",
    "from matplotlib import pyplot as plt\n",
    "import seaborn as sns"
   ]
  },
  {
   "cell_type": "code",
   "execution_count": 4,
   "metadata": {},
   "outputs": [
    {
     "data": {
      "text/html": [
       "<div>\n",
       "<style scoped>\n",
       "    .dataframe tbody tr th:only-of-type {\n",
       "        vertical-align: middle;\n",
       "    }\n",
       "\n",
       "    .dataframe tbody tr th {\n",
       "        vertical-align: top;\n",
       "    }\n",
       "\n",
       "    .dataframe thead th {\n",
       "        text-align: right;\n",
       "    }\n",
       "</style>\n",
       "<table border=\"1\" class=\"dataframe\">\n",
       "  <thead>\n",
       "    <tr style=\"text-align: right;\">\n",
       "      <th></th>\n",
       "      <th>Material</th>\n",
       "      <th>Shape</th>\n",
       "      <th>Coat/Functional Group</th>\n",
       "      <th>Synthesis_Method</th>\n",
       "      <th>Diameter (nm)</th>\n",
       "      <th>Size_in_Water (nm)</th>\n",
       "      <th>Size_in_Medium (nm)</th>\n",
       "      <th>Zeta_in_Water (mV)</th>\n",
       "      <th>Zeta_in_Medium (mV)</th>\n",
       "      <th>Cell_Type</th>\n",
       "      <th>...</th>\n",
       "      <th>Cell_Morphology</th>\n",
       "      <th>Cell_Age</th>\n",
       "      <th>Cell Line_Primary Cell</th>\n",
       "      <th>Time (hr)</th>\n",
       "      <th>Concentration (ug/ml)</th>\n",
       "      <th>Test</th>\n",
       "      <th>Test_Indicator</th>\n",
       "      <th>Aspect_Ratio</th>\n",
       "      <th>Cell_Viability (%)</th>\n",
       "      <th>is_inorganic</th>\n",
       "    </tr>\n",
       "  </thead>\n",
       "  <tbody>\n",
       "    <tr>\n",
       "      <th>0</th>\n",
       "      <td>SiO2</td>\n",
       "      <td>Sphere</td>\n",
       "      <td>CTAB</td>\n",
       "      <td>Precipitation</td>\n",
       "      <td>21.06</td>\n",
       "      <td>386.9</td>\n",
       "      <td>90.09</td>\n",
       "      <td>-35.9</td>\n",
       "      <td>-28.0</td>\n",
       "      <td>PC12</td>\n",
       "      <td>...</td>\n",
       "      <td>Irregular</td>\n",
       "      <td>Adult</td>\n",
       "      <td>L</td>\n",
       "      <td>12</td>\n",
       "      <td>1.95</td>\n",
       "      <td>MTT</td>\n",
       "      <td>TetrazoliumSalt</td>\n",
       "      <td>2.17</td>\n",
       "      <td>113.670</td>\n",
       "      <td>1</td>\n",
       "    </tr>\n",
       "    <tr>\n",
       "      <th>1</th>\n",
       "      <td>SiO2</td>\n",
       "      <td>Sphere</td>\n",
       "      <td>CTAB</td>\n",
       "      <td>Precipitation</td>\n",
       "      <td>21.06</td>\n",
       "      <td>386.9</td>\n",
       "      <td>90.09</td>\n",
       "      <td>-35.9</td>\n",
       "      <td>-28.0</td>\n",
       "      <td>PC12</td>\n",
       "      <td>...</td>\n",
       "      <td>Irregular</td>\n",
       "      <td>Adult</td>\n",
       "      <td>L</td>\n",
       "      <td>12</td>\n",
       "      <td>3.90</td>\n",
       "      <td>MTT</td>\n",
       "      <td>TetrazoliumSalt</td>\n",
       "      <td>2.17</td>\n",
       "      <td>97.265</td>\n",
       "      <td>1</td>\n",
       "    </tr>\n",
       "    <tr>\n",
       "      <th>2</th>\n",
       "      <td>SiO2</td>\n",
       "      <td>Sphere</td>\n",
       "      <td>CTAB</td>\n",
       "      <td>Precipitation</td>\n",
       "      <td>21.06</td>\n",
       "      <td>386.9</td>\n",
       "      <td>90.09</td>\n",
       "      <td>-35.9</td>\n",
       "      <td>-28.0</td>\n",
       "      <td>PC12</td>\n",
       "      <td>...</td>\n",
       "      <td>Irregular</td>\n",
       "      <td>Adult</td>\n",
       "      <td>L</td>\n",
       "      <td>12</td>\n",
       "      <td>7.80</td>\n",
       "      <td>MTT</td>\n",
       "      <td>TetrazoliumSalt</td>\n",
       "      <td>2.17</td>\n",
       "      <td>10873.000</td>\n",
       "      <td>1</td>\n",
       "    </tr>\n",
       "    <tr>\n",
       "      <th>3</th>\n",
       "      <td>SiO2</td>\n",
       "      <td>Sphere</td>\n",
       "      <td>CTAB</td>\n",
       "      <td>Precipitation</td>\n",
       "      <td>21.06</td>\n",
       "      <td>386.9</td>\n",
       "      <td>90.09</td>\n",
       "      <td>-35.9</td>\n",
       "      <td>-28.0</td>\n",
       "      <td>PC12</td>\n",
       "      <td>...</td>\n",
       "      <td>Irregular</td>\n",
       "      <td>Adult</td>\n",
       "      <td>L</td>\n",
       "      <td>12</td>\n",
       "      <td>15.60</td>\n",
       "      <td>MTT</td>\n",
       "      <td>TetrazoliumSalt</td>\n",
       "      <td>2.17</td>\n",
       "      <td>98.451</td>\n",
       "      <td>1</td>\n",
       "    </tr>\n",
       "    <tr>\n",
       "      <th>4</th>\n",
       "      <td>SiO2</td>\n",
       "      <td>Sphere</td>\n",
       "      <td>CTAB</td>\n",
       "      <td>Precipitation</td>\n",
       "      <td>21.06</td>\n",
       "      <td>386.9</td>\n",
       "      <td>90.09</td>\n",
       "      <td>-35.9</td>\n",
       "      <td>-28.0</td>\n",
       "      <td>PC12</td>\n",
       "      <td>...</td>\n",
       "      <td>Irregular</td>\n",
       "      <td>Adult</td>\n",
       "      <td>L</td>\n",
       "      <td>12</td>\n",
       "      <td>31.20</td>\n",
       "      <td>MTT</td>\n",
       "      <td>TetrazoliumSalt</td>\n",
       "      <td>2.17</td>\n",
       "      <td>98.056</td>\n",
       "      <td>1</td>\n",
       "    </tr>\n",
       "  </tbody>\n",
       "</table>\n",
       "<p>5 rows × 22 columns</p>\n",
       "</div>"
      ],
      "text/plain": [
       "  Material   Shape Coat/Functional Group Synthesis_Method  Diameter (nm)  \\\n",
       "0     SiO2  Sphere                  CTAB    Precipitation          21.06   \n",
       "1     SiO2  Sphere                  CTAB    Precipitation          21.06   \n",
       "2     SiO2  Sphere                  CTAB    Precipitation          21.06   \n",
       "3     SiO2  Sphere                  CTAB    Precipitation          21.06   \n",
       "4     SiO2  Sphere                  CTAB    Precipitation          21.06   \n",
       "\n",
       "   Size_in_Water (nm)  Size_in_Medium (nm)  Zeta_in_Water (mV)  \\\n",
       "0               386.9                90.09               -35.9   \n",
       "1               386.9                90.09               -35.9   \n",
       "2               386.9                90.09               -35.9   \n",
       "3               386.9                90.09               -35.9   \n",
       "4               386.9                90.09               -35.9   \n",
       "\n",
       "   Zeta_in_Medium (mV) Cell_Type  ... Cell_Morphology Cell_Age  \\\n",
       "0                -28.0      PC12  ...       Irregular    Adult   \n",
       "1                -28.0      PC12  ...       Irregular    Adult   \n",
       "2                -28.0      PC12  ...       Irregular    Adult   \n",
       "3                -28.0      PC12  ...       Irregular    Adult   \n",
       "4                -28.0      PC12  ...       Irregular    Adult   \n",
       "\n",
       "  Cell Line_Primary Cell Time (hr) Concentration (ug/ml)  Test  \\\n",
       "0                      L        12                  1.95   MTT   \n",
       "1                      L        12                  3.90   MTT   \n",
       "2                      L        12                  7.80   MTT   \n",
       "3                      L        12                 15.60   MTT   \n",
       "4                      L        12                 31.20   MTT   \n",
       "\n",
       "    Test_Indicator Aspect_Ratio Cell_Viability (%)  is_inorganic  \n",
       "0  TetrazoliumSalt         2.17            113.670             1  \n",
       "1  TetrazoliumSalt         2.17             97.265             1  \n",
       "2  TetrazoliumSalt         2.17          10873.000             1  \n",
       "3  TetrazoliumSalt         2.17             98.451             1  \n",
       "4  TetrazoliumSalt         2.17             98.056             1  \n",
       "\n",
       "[5 rows x 22 columns]"
      ]
     },
     "execution_count": 4,
     "metadata": {},
     "output_type": "execute_result"
    }
   ],
   "source": [
    "# Загрузка датасета\n",
    "df = pd.read_excel('proc_db3.xlsx')\n",
    "df.head()"
   ]
  },
  {
   "cell_type": "code",
   "execution_count": 5,
   "metadata": {},
   "outputs": [],
   "source": [
    "# Кодировка датасета\n",
    "from sklearn.preprocessing import LabelEncoder\n",
    "\n",
    "encoded, _ = encode(df.drop('Material', axis=1))"
   ]
  },
  {
   "cell_type": "code",
   "execution_count": 6,
   "metadata": {},
   "outputs": [
    {
     "data": {
      "text/html": [
       "<div>\n",
       "<style scoped>\n",
       "    .dataframe tbody tr th:only-of-type {\n",
       "        vertical-align: middle;\n",
       "    }\n",
       "\n",
       "    .dataframe tbody tr th {\n",
       "        vertical-align: top;\n",
       "    }\n",
       "\n",
       "    .dataframe thead th {\n",
       "        text-align: right;\n",
       "    }\n",
       "</style>\n",
       "<table border=\"1\" class=\"dataframe\">\n",
       "  <thead>\n",
       "    <tr style=\"text-align: right;\">\n",
       "      <th></th>\n",
       "      <th>Shape</th>\n",
       "      <th>Coat/Functional Group</th>\n",
       "      <th>Synthesis_Method</th>\n",
       "      <th>Diameter (nm)</th>\n",
       "      <th>Size_in_Water (nm)</th>\n",
       "      <th>Size_in_Medium (nm)</th>\n",
       "      <th>Zeta_in_Water (mV)</th>\n",
       "      <th>Zeta_in_Medium (mV)</th>\n",
       "      <th>Cell_Type</th>\n",
       "      <th>Human_Animal</th>\n",
       "      <th>...</th>\n",
       "      <th>Cell_Morphology</th>\n",
       "      <th>Cell_Age</th>\n",
       "      <th>Cell Line_Primary Cell</th>\n",
       "      <th>Time (hr)</th>\n",
       "      <th>Concentration (ug/ml)</th>\n",
       "      <th>Test</th>\n",
       "      <th>Test_Indicator</th>\n",
       "      <th>Aspect_Ratio</th>\n",
       "      <th>Cell_Viability (%)</th>\n",
       "      <th>is_inorganic</th>\n",
       "    </tr>\n",
       "  </thead>\n",
       "  <tbody>\n",
       "    <tr>\n",
       "      <th>0</th>\n",
       "      <td>15</td>\n",
       "      <td>6</td>\n",
       "      <td>17</td>\n",
       "      <td>21.06</td>\n",
       "      <td>386.9</td>\n",
       "      <td>90.09</td>\n",
       "      <td>-35.9</td>\n",
       "      <td>-28.0</td>\n",
       "      <td>67</td>\n",
       "      <td>0</td>\n",
       "      <td>...</td>\n",
       "      <td>3</td>\n",
       "      <td>0</td>\n",
       "      <td>0</td>\n",
       "      <td>12</td>\n",
       "      <td>1.95</td>\n",
       "      <td>11</td>\n",
       "      <td>9</td>\n",
       "      <td>2.17</td>\n",
       "      <td>113.670</td>\n",
       "      <td>1</td>\n",
       "    </tr>\n",
       "    <tr>\n",
       "      <th>1</th>\n",
       "      <td>15</td>\n",
       "      <td>6</td>\n",
       "      <td>17</td>\n",
       "      <td>21.06</td>\n",
       "      <td>386.9</td>\n",
       "      <td>90.09</td>\n",
       "      <td>-35.9</td>\n",
       "      <td>-28.0</td>\n",
       "      <td>67</td>\n",
       "      <td>0</td>\n",
       "      <td>...</td>\n",
       "      <td>3</td>\n",
       "      <td>0</td>\n",
       "      <td>0</td>\n",
       "      <td>12</td>\n",
       "      <td>3.90</td>\n",
       "      <td>11</td>\n",
       "      <td>9</td>\n",
       "      <td>2.17</td>\n",
       "      <td>97.265</td>\n",
       "      <td>1</td>\n",
       "    </tr>\n",
       "    <tr>\n",
       "      <th>2</th>\n",
       "      <td>15</td>\n",
       "      <td>6</td>\n",
       "      <td>17</td>\n",
       "      <td>21.06</td>\n",
       "      <td>386.9</td>\n",
       "      <td>90.09</td>\n",
       "      <td>-35.9</td>\n",
       "      <td>-28.0</td>\n",
       "      <td>67</td>\n",
       "      <td>0</td>\n",
       "      <td>...</td>\n",
       "      <td>3</td>\n",
       "      <td>0</td>\n",
       "      <td>0</td>\n",
       "      <td>12</td>\n",
       "      <td>7.80</td>\n",
       "      <td>11</td>\n",
       "      <td>9</td>\n",
       "      <td>2.17</td>\n",
       "      <td>10873.000</td>\n",
       "      <td>1</td>\n",
       "    </tr>\n",
       "    <tr>\n",
       "      <th>3</th>\n",
       "      <td>15</td>\n",
       "      <td>6</td>\n",
       "      <td>17</td>\n",
       "      <td>21.06</td>\n",
       "      <td>386.9</td>\n",
       "      <td>90.09</td>\n",
       "      <td>-35.9</td>\n",
       "      <td>-28.0</td>\n",
       "      <td>67</td>\n",
       "      <td>0</td>\n",
       "      <td>...</td>\n",
       "      <td>3</td>\n",
       "      <td>0</td>\n",
       "      <td>0</td>\n",
       "      <td>12</td>\n",
       "      <td>15.60</td>\n",
       "      <td>11</td>\n",
       "      <td>9</td>\n",
       "      <td>2.17</td>\n",
       "      <td>98.451</td>\n",
       "      <td>1</td>\n",
       "    </tr>\n",
       "    <tr>\n",
       "      <th>4</th>\n",
       "      <td>15</td>\n",
       "      <td>6</td>\n",
       "      <td>17</td>\n",
       "      <td>21.06</td>\n",
       "      <td>386.9</td>\n",
       "      <td>90.09</td>\n",
       "      <td>-35.9</td>\n",
       "      <td>-28.0</td>\n",
       "      <td>67</td>\n",
       "      <td>0</td>\n",
       "      <td>...</td>\n",
       "      <td>3</td>\n",
       "      <td>0</td>\n",
       "      <td>0</td>\n",
       "      <td>12</td>\n",
       "      <td>31.20</td>\n",
       "      <td>11</td>\n",
       "      <td>9</td>\n",
       "      <td>2.17</td>\n",
       "      <td>98.056</td>\n",
       "      <td>1</td>\n",
       "    </tr>\n",
       "  </tbody>\n",
       "</table>\n",
       "<p>5 rows × 21 columns</p>\n",
       "</div>"
      ],
      "text/plain": [
       "   Shape  Coat/Functional Group  Synthesis_Method  Diameter (nm)  \\\n",
       "0     15                      6                17          21.06   \n",
       "1     15                      6                17          21.06   \n",
       "2     15                      6                17          21.06   \n",
       "3     15                      6                17          21.06   \n",
       "4     15                      6                17          21.06   \n",
       "\n",
       "   Size_in_Water (nm)  Size_in_Medium (nm)  Zeta_in_Water (mV)  \\\n",
       "0               386.9                90.09               -35.9   \n",
       "1               386.9                90.09               -35.9   \n",
       "2               386.9                90.09               -35.9   \n",
       "3               386.9                90.09               -35.9   \n",
       "4               386.9                90.09               -35.9   \n",
       "\n",
       "   Zeta_in_Medium (mV)  Cell_Type  Human_Animal  ...  Cell_Morphology  \\\n",
       "0                -28.0         67             0  ...                3   \n",
       "1                -28.0         67             0  ...                3   \n",
       "2                -28.0         67             0  ...                3   \n",
       "3                -28.0         67             0  ...                3   \n",
       "4                -28.0         67             0  ...                3   \n",
       "\n",
       "   Cell_Age  Cell Line_Primary Cell  Time (hr)  Concentration (ug/ml)  Test  \\\n",
       "0         0                       0         12                   1.95    11   \n",
       "1         0                       0         12                   3.90    11   \n",
       "2         0                       0         12                   7.80    11   \n",
       "3         0                       0         12                  15.60    11   \n",
       "4         0                       0         12                  31.20    11   \n",
       "\n",
       "   Test_Indicator  Aspect_Ratio  Cell_Viability (%)  is_inorganic  \n",
       "0               9          2.17             113.670             1  \n",
       "1               9          2.17              97.265             1  \n",
       "2               9          2.17           10873.000             1  \n",
       "3               9          2.17              98.451             1  \n",
       "4               9          2.17              98.056             1  \n",
       "\n",
       "[5 rows x 21 columns]"
      ]
     },
     "execution_count": 6,
     "metadata": {},
     "output_type": "execute_result"
    }
   ],
   "source": [
    "encoded.head()"
   ]
  },
  {
   "cell_type": "code",
   "execution_count": 7,
   "metadata": {},
   "outputs": [],
   "source": [
    "# Ограничение жизнеспособности\n",
    "encoded['Cell_Viability (%)'] = encoded['Cell_Viability (%)'].apply(lambda x: clamp(x, 0, 200))"
   ]
  },
  {
   "cell_type": "code",
   "execution_count": 8,
   "metadata": {},
   "outputs": [],
   "source": [
    "# Логарифмирование концентрации\n",
    "encoded['Concentration (ug/ml)'] = np.log10(encoded['Concentration (ug/ml)'])"
   ]
  },
  {
   "cell_type": "code",
   "execution_count": 9,
   "metadata": {},
   "outputs": [
    {
     "data": {
      "text/plain": [
       "<AxesSubplot:xlabel='Diameter (nm)', ylabel='Count'>"
      ]
     },
     "execution_count": 9,
     "metadata": {},
     "output_type": "execute_result"
    },
    {
     "data": {
      "image/png": "[encoded data removed]",
      "text/plain": [
       "<Figure size 432x288 with 1 Axes>"
      ]
     },
     "metadata": {
      "needs_background": "light"
     },
     "output_type": "display_data"
    }
   ],
   "source": [
    "# Ограничение диаметра\n",
    "sns.histplot(df['Diameter (nm)'])"
   ]
  },
  {
   "cell_type": "code",
   "execution_count": 10,
   "metadata": {},
   "outputs": [],
   "source": [
    "df['Diameter (nm)'] = df['Diameter (nm)'].apply(lambda x: clamp(x, 0, 300))"
   ]
  },
  {
   "cell_type": "code",
   "execution_count": 11,
   "metadata": {},
   "outputs": [],
   "source": [
    "# Добавление описания формы НЧ\n",
    "get_bounds(encoded, 'Diameter (nm)')"
   ]
  },
  {
   "cell_type": "code",
   "execution_count": 12,
   "metadata": {},
   "outputs": [],
   "source": [
    "# Скейлинг БД\n",
    "from sklearn.preprocessing import MinMaxScaler\n",
    "\n",
    "encoded, _ = scale_by_columns(encoded, MinMaxScaler)"
   ]
  },
  {
   "cell_type": "code",
   "execution_count": 13,
   "metadata": {},
   "outputs": [],
   "source": [
    "# Заполнение пропусков\n",
    "fill_with_mode(encoded)"
   ]
  },
  {
   "cell_type": "code",
   "execution_count": 14,
   "metadata": {},
   "outputs": [],
   "source": [
    "# Попытки предсказать целевую переменную и выкинуть\n",
    "# как можно больше столбцов\n",
    "from sklearn.model_selection import train_test_split\n",
    "\n",
    "to_drop = [\n",
    "    'Cell_Viability (%)', 'Aspect_Ratio', 'Shape'\n",
    "]\n",
    "\n",
    "x, y = encoded.drop(to_drop, axis=1), encoded['Cell_Viability (%)']\n",
    "\n",
    "x_train, x_test, y_train, y_test = train_test_split(x, y, test_size=0.15)"
   ]
  },
  {
   "cell_type": "code",
   "execution_count": 15,
   "metadata": {},
   "outputs": [
    {
     "data": {
      "text/plain": [
       "0.8103491866176802"
      ]
     },
     "execution_count": 15,
     "metadata": {},
     "output_type": "execute_result"
    }
   ],
   "source": [
    "# Обучение\n",
    "from sklearn.ensemble import RandomForestRegressor\n",
    "\n",
    "rfr = RandomForestRegressor().fit(x_train, y_train)\n",
    "rfr.score(x_test, y_test)"
   ]
  },
  {
   "cell_type": "code",
   "execution_count": 16,
   "metadata": {},
   "outputs": [
    {
     "data": {
      "text/plain": [
       "<BarContainer object of 21 artists>"
      ]
     },
     "execution_count": 16,
     "metadata": {},
     "output_type": "execute_result"
    },
    {
     "data": {
      "image/png": "[encoded data removed]",
      "text/plain": [
       "<Figure size 432x288 with 1 Axes>"
      ]
     },
     "metadata": {
      "needs_background": "light"
     },
     "output_type": "display_data"
    }
   ],
   "source": [
    "plt.barh(x.columns, rfr.feature_importances_)"
   ]
  },
  {
   "cell_type": "code",
   "execution_count": 17,
   "metadata": {},
   "outputs": [],
   "source": [
    "# Неплохой результат!"
   ]
  }
 ],
 "metadata": {
  "kernelspec": {
   "display_name": "Python 3.9.2 64-bit",
   "language": "python",
   "name": "python3"
  },
  "language_info": {
   "codemirror_mode": {
    "name": "ipython",
    "version": 3
   },
   "file_extension": ".py",
   "mimetype": "text/x-python",
   "name": "python",
   "nbconvert_exporter": "python",
   "pygments_lexer": "ipython3",
   "version": "3.9.2"
  },
  "orig_nbformat": 4,
  "vscode": {
   "interpreter": {
    "hash": "865d8b2eb28e274047ba64063dfb6a2aabf0dfec4905d304d7a76618dae6fdd4"
   }
  }
 },
 "nbformat": 4,
 "nbformat_minor": 2
}
