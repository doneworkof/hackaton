{
 "cells": [
  {
   "cell_type": "code",
   "execution_count": 1,
   "metadata": {},
   "outputs": [],
   "source": [
    "# Импорт библиотек\n",
    "import numpy as np\n",
    "import pandas as pd\n",
    "\n",
    "from funcs import fill_with_mode, fill_na_with_similar, get_bounds"
   ]
  },
  {
   "cell_type": "code",
   "execution_count": 2,
   "metadata": {},
   "outputs": [],
   "source": [
    "# Загрузка трёх баз данных\n",
    "db1 = pd.read_excel('proc_db1.xlsx')\n",
    "db2 = pd.read_excel('proc_db2.xlsx')\n",
    "db3 = pd.read_excel('proc_db3.xlsx')"
   ]
  },
  {
   "cell_type": "code",
   "execution_count": 3,
   "metadata": {},
   "outputs": [
    {
     "data": {
      "text/html": [
       "<div>\n",
       "<style scoped>\n",
       "    .dataframe tbody tr th:only-of-type {\n",
       "        vertical-align: middle;\n",
       "    }\n",
       "\n",
       "    .dataframe tbody tr th {\n",
       "        vertical-align: top;\n",
       "    }\n",
       "\n",
       "    .dataframe thead th {\n",
       "        text-align: right;\n",
       "    }\n",
       "</style>\n",
       "<table border=\"1\" class=\"dataframe\">\n",
       "  <thead>\n",
       "    <tr style=\"text-align: right;\">\n",
       "      <th></th>\n",
       "      <th>Material type</th>\n",
       "      <th>Elements</th>\n",
       "      <th>Electronegativity</th>\n",
       "      <th>Ionic radius</th>\n",
       "      <th>Core size (nm)</th>\n",
       "      <th>Hydro size (nm)</th>\n",
       "      <th>Surface charge (mV)</th>\n",
       "      <th>Surface area (m2/g)</th>\n",
       "      <th>Cell type</th>\n",
       "      <th>Exposure dose (ug/mL)</th>\n",
       "      <th>Number of atoms</th>\n",
       "      <th>Molecular weight (g/mol)</th>\n",
       "      <th>Topological polar surface area (Å²)</th>\n",
       "      <th>Density (g/cm3)</th>\n",
       "      <th>Viability (%)</th>\n",
       "    </tr>\n",
       "  </thead>\n",
       "  <tbody>\n",
       "    <tr>\n",
       "      <th>0</th>\n",
       "      <td>CuO</td>\n",
       "      <td>Cu</td>\n",
       "      <td>1.90</td>\n",
       "      <td>73.0</td>\n",
       "      <td>12.8</td>\n",
       "      <td>313.8</td>\n",
       "      <td>7.6</td>\n",
       "      <td>74.2</td>\n",
       "      <td>1</td>\n",
       "      <td>200.0</td>\n",
       "      <td>2</td>\n",
       "      <td>79.5450</td>\n",
       "      <td>17.1</td>\n",
       "      <td>5.94</td>\n",
       "      <td>9.1</td>\n",
       "    </tr>\n",
       "    <tr>\n",
       "      <th>1</th>\n",
       "      <td>ZnO</td>\n",
       "      <td>Zn</td>\n",
       "      <td>1.65</td>\n",
       "      <td>74.0</td>\n",
       "      <td>22.6</td>\n",
       "      <td>114.7</td>\n",
       "      <td>28.8</td>\n",
       "      <td>47.4</td>\n",
       "      <td>0</td>\n",
       "      <td>200.0</td>\n",
       "      <td>2</td>\n",
       "      <td>81.3800</td>\n",
       "      <td>17.1</td>\n",
       "      <td>5.44</td>\n",
       "      <td>9.5</td>\n",
       "    </tr>\n",
       "    <tr>\n",
       "      <th>2</th>\n",
       "      <td>ZnO</td>\n",
       "      <td>Zn</td>\n",
       "      <td>1.65</td>\n",
       "      <td>74.0</td>\n",
       "      <td>22.6</td>\n",
       "      <td>114.7</td>\n",
       "      <td>28.8</td>\n",
       "      <td>47.4</td>\n",
       "      <td>0</td>\n",
       "      <td>100.0</td>\n",
       "      <td>2</td>\n",
       "      <td>81.3800</td>\n",
       "      <td>17.1</td>\n",
       "      <td>5.44</td>\n",
       "      <td>10.2</td>\n",
       "    </tr>\n",
       "    <tr>\n",
       "      <th>3</th>\n",
       "      <td>ZnO</td>\n",
       "      <td>Zn</td>\n",
       "      <td>1.65</td>\n",
       "      <td>74.0</td>\n",
       "      <td>22.6</td>\n",
       "      <td>69.4</td>\n",
       "      <td>28.8</td>\n",
       "      <td>47.4</td>\n",
       "      <td>1</td>\n",
       "      <td>100.0</td>\n",
       "      <td>2</td>\n",
       "      <td>81.3800</td>\n",
       "      <td>17.1</td>\n",
       "      <td>5.44</td>\n",
       "      <td>11.0</td>\n",
       "    </tr>\n",
       "    <tr>\n",
       "      <th>4</th>\n",
       "      <td>Mn2O3</td>\n",
       "      <td>Mn</td>\n",
       "      <td>1.55</td>\n",
       "      <td>58.0</td>\n",
       "      <td>51.5</td>\n",
       "      <td>291.7</td>\n",
       "      <td>-46.1</td>\n",
       "      <td>25.9</td>\n",
       "      <td>1</td>\n",
       "      <td>200.0</td>\n",
       "      <td>5</td>\n",
       "      <td>157.8743</td>\n",
       "      <td>43.4</td>\n",
       "      <td>4.59</td>\n",
       "      <td>11.3</td>\n",
       "    </tr>\n",
       "  </tbody>\n",
       "</table>\n",
       "</div>"
      ],
      "text/plain": [
       "  Material type Elements  Electronegativity  Ionic radius  Core size (nm)  \\\n",
       "0           CuO       Cu               1.90          73.0            12.8   \n",
       "1           ZnO       Zn               1.65          74.0            22.6   \n",
       "2           ZnO       Zn               1.65          74.0            22.6   \n",
       "3           ZnO       Zn               1.65          74.0            22.6   \n",
       "4         Mn2O3       Mn               1.55          58.0            51.5   \n",
       "\n",
       "   Hydro size (nm)  Surface charge (mV)  Surface area (m2/g)  Cell type  \\\n",
       "0            313.8                  7.6                 74.2          1   \n",
       "1            114.7                 28.8                 47.4          0   \n",
       "2            114.7                 28.8                 47.4          0   \n",
       "3             69.4                 28.8                 47.4          1   \n",
       "4            291.7                -46.1                 25.9          1   \n",
       "\n",
       "   Exposure dose (ug/mL)  Number of atoms  Molecular weight (g/mol)  \\\n",
       "0                  200.0                2                   79.5450   \n",
       "1                  200.0                2                   81.3800   \n",
       "2                  100.0                2                   81.3800   \n",
       "3                  100.0                2                   81.3800   \n",
       "4                  200.0                5                  157.8743   \n",
       "\n",
       "   Topological polar surface area (Å²)  Density (g/cm3)  Viability (%)  \n",
       "0                                 17.1             5.94            9.1  \n",
       "1                                 17.1             5.44            9.5  \n",
       "2                                 17.1             5.44           10.2  \n",
       "3                                 17.1             5.44           11.0  \n",
       "4                                 43.4             4.59           11.3  "
      ]
     },
     "execution_count": 3,
     "metadata": {},
     "output_type": "execute_result"
    }
   ],
   "source": [
    "db1.head()"
   ]
  },
  {
   "cell_type": "code",
   "execution_count": 4,
   "metadata": {},
   "outputs": [
    {
     "data": {
      "text/html": [
       "<div>\n",
       "<style scoped>\n",
       "    .dataframe tbody tr th:only-of-type {\n",
       "        vertical-align: middle;\n",
       "    }\n",
       "\n",
       "    .dataframe tbody tr th {\n",
       "        vertical-align: top;\n",
       "    }\n",
       "\n",
       "    .dataframe thead th {\n",
       "        text-align: right;\n",
       "    }\n",
       "</style>\n",
       "<table border=\"1\" class=\"dataframe\">\n",
       "  <thead>\n",
       "    <tr style=\"text-align: right;\">\n",
       "      <th></th>\n",
       "      <th>Nanoparticle</th>\n",
       "      <th>coat</th>\n",
       "      <th>Diameter (nm)</th>\n",
       "      <th>Concentration μM</th>\n",
       "      <th>Zeta potential (mV)</th>\n",
       "      <th>Cells</th>\n",
       "      <th>Cell line (L)/primary cells (P)</th>\n",
       "      <th>Human(H)/Animal(A) cells</th>\n",
       "      <th>Cell morphology</th>\n",
       "      <th>Cell-organ/tissue source</th>\n",
       "      <th>...</th>\n",
       "      <th>Test</th>\n",
       "      <th>Test indicator</th>\n",
       "      <th>Biochemical metric</th>\n",
       "      <th>% Cell viability</th>\n",
       "      <th>Interference checked (Y/N)</th>\n",
       "      <th>Colloidal stability checked (Y/N)</th>\n",
       "      <th>Positive control (Y/N)</th>\n",
       "      <th>Animal</th>\n",
       "      <th>is_inorganic</th>\n",
       "      <th>Cell age</th>\n",
       "    </tr>\n",
       "  </thead>\n",
       "  <tbody>\n",
       "    <tr>\n",
       "      <th>0</th>\n",
       "      <td>CeO2</td>\n",
       "      <td>nothing</td>\n",
       "      <td>20.3</td>\n",
       "      <td>0.002478</td>\n",
       "      <td>-8.0</td>\n",
       "      <td>L929</td>\n",
       "      <td>L</td>\n",
       "      <td>A</td>\n",
       "      <td>Fibroblast</td>\n",
       "      <td>Areolar tissue</td>\n",
       "      <td>...</td>\n",
       "      <td>MTT</td>\n",
       "      <td>tetrazolium salt</td>\n",
       "      <td>cell metabolic activity</td>\n",
       "      <td>105.58918</td>\n",
       "      <td>N</td>\n",
       "      <td>N</td>\n",
       "      <td>N</td>\n",
       "      <td>rat</td>\n",
       "      <td>1</td>\n",
       "      <td>A</td>\n",
       "    </tr>\n",
       "    <tr>\n",
       "      <th>1</th>\n",
       "      <td>CeO2</td>\n",
       "      <td>nothing</td>\n",
       "      <td>20.3</td>\n",
       "      <td>0.004956</td>\n",
       "      <td>-8.0</td>\n",
       "      <td>L929</td>\n",
       "      <td>L</td>\n",
       "      <td>A</td>\n",
       "      <td>Fibroblast</td>\n",
       "      <td>Areolar tissue</td>\n",
       "      <td>...</td>\n",
       "      <td>MTT</td>\n",
       "      <td>tetrazolium salt</td>\n",
       "      <td>cell metabolic activity</td>\n",
       "      <td>103.02621</td>\n",
       "      <td>N</td>\n",
       "      <td>N</td>\n",
       "      <td>N</td>\n",
       "      <td>rat</td>\n",
       "      <td>1</td>\n",
       "      <td>A</td>\n",
       "    </tr>\n",
       "    <tr>\n",
       "      <th>2</th>\n",
       "      <td>CeO2</td>\n",
       "      <td>nothing</td>\n",
       "      <td>20.3</td>\n",
       "      <td>0.009911</td>\n",
       "      <td>-8.0</td>\n",
       "      <td>L929</td>\n",
       "      <td>L</td>\n",
       "      <td>A</td>\n",
       "      <td>Fibroblast</td>\n",
       "      <td>Areolar tissue</td>\n",
       "      <td>...</td>\n",
       "      <td>MTT</td>\n",
       "      <td>tetrazolium salt</td>\n",
       "      <td>cell metabolic activity</td>\n",
       "      <td>104.85748</td>\n",
       "      <td>N</td>\n",
       "      <td>N</td>\n",
       "      <td>N</td>\n",
       "      <td>rat</td>\n",
       "      <td>1</td>\n",
       "      <td>A</td>\n",
       "    </tr>\n",
       "    <tr>\n",
       "      <th>3</th>\n",
       "      <td>CeO2</td>\n",
       "      <td>nothing</td>\n",
       "      <td>20.3</td>\n",
       "      <td>0.019823</td>\n",
       "      <td>-8.0</td>\n",
       "      <td>L929</td>\n",
       "      <td>L</td>\n",
       "      <td>A</td>\n",
       "      <td>Fibroblast</td>\n",
       "      <td>Areolar tissue</td>\n",
       "      <td>...</td>\n",
       "      <td>MTT</td>\n",
       "      <td>tetrazolium salt</td>\n",
       "      <td>cell metabolic activity</td>\n",
       "      <td>100.09670</td>\n",
       "      <td>N</td>\n",
       "      <td>N</td>\n",
       "      <td>N</td>\n",
       "      <td>rat</td>\n",
       "      <td>1</td>\n",
       "      <td>A</td>\n",
       "    </tr>\n",
       "    <tr>\n",
       "      <th>4</th>\n",
       "      <td>CeO2</td>\n",
       "      <td>nothing</td>\n",
       "      <td>20.3</td>\n",
       "      <td>0.039645</td>\n",
       "      <td>-8.0</td>\n",
       "      <td>L929</td>\n",
       "      <td>L</td>\n",
       "      <td>A</td>\n",
       "      <td>Fibroblast</td>\n",
       "      <td>Areolar tissue</td>\n",
       "      <td>...</td>\n",
       "      <td>MTT</td>\n",
       "      <td>tetrazolium salt</td>\n",
       "      <td>cell metabolic activity</td>\n",
       "      <td>97.53237</td>\n",
       "      <td>N</td>\n",
       "      <td>N</td>\n",
       "      <td>N</td>\n",
       "      <td>rat</td>\n",
       "      <td>1</td>\n",
       "      <td>A</td>\n",
       "    </tr>\n",
       "  </tbody>\n",
       "</table>\n",
       "<p>5 rows × 21 columns</p>\n",
       "</div>"
      ],
      "text/plain": [
       "  Nanoparticle     coat  Diameter (nm)  Concentration μM  Zeta potential (mV)  \\\n",
       "0         CeO2  nothing           20.3          0.002478                 -8.0   \n",
       "1         CeO2  nothing           20.3          0.004956                 -8.0   \n",
       "2         CeO2  nothing           20.3          0.009911                 -8.0   \n",
       "3         CeO2  nothing           20.3          0.019823                 -8.0   \n",
       "4         CeO2  nothing           20.3          0.039645                 -8.0   \n",
       "\n",
       "  Cells Cell line (L)/primary cells (P) Human(H)/Animal(A) cells  \\\n",
       "0  L929                               L                        A   \n",
       "1  L929                               L                        A   \n",
       "2  L929                               L                        A   \n",
       "3  L929                               L                        A   \n",
       "4  L929                               L                        A   \n",
       "\n",
       "  Cell morphology Cell-organ/tissue source  ...  Test    Test indicator  \\\n",
       "0      Fibroblast           Areolar tissue  ...   MTT  tetrazolium salt   \n",
       "1      Fibroblast           Areolar tissue  ...   MTT  tetrazolium salt   \n",
       "2      Fibroblast           Areolar tissue  ...   MTT  tetrazolium salt   \n",
       "3      Fibroblast           Areolar tissue  ...   MTT  tetrazolium salt   \n",
       "4      Fibroblast           Areolar tissue  ...   MTT  tetrazolium salt   \n",
       "\n",
       "        Biochemical metric % Cell viability  Interference checked (Y/N)  \\\n",
       "0  cell metabolic activity        105.58918                           N   \n",
       "1  cell metabolic activity        103.02621                           N   \n",
       "2  cell metabolic activity        104.85748                           N   \n",
       "3  cell metabolic activity        100.09670                           N   \n",
       "4  cell metabolic activity         97.53237                           N   \n",
       "\n",
       "  Colloidal stability checked (Y/N) Positive control (Y/N) Animal  \\\n",
       "0                                 N                      N    rat   \n",
       "1                                 N                      N    rat   \n",
       "2                                 N                      N    rat   \n",
       "3                                 N                      N    rat   \n",
       "4                                 N                      N    rat   \n",
       "\n",
       "  is_inorganic  Cell age  \n",
       "0            1         A  \n",
       "1            1         A  \n",
       "2            1         A  \n",
       "3            1         A  \n",
       "4            1         A  \n",
       "\n",
       "[5 rows x 21 columns]"
      ]
     },
     "execution_count": 4,
     "metadata": {},
     "output_type": "execute_result"
    }
   ],
   "source": [
    "db2.head()"
   ]
  },
  {
   "cell_type": "code",
   "execution_count": 5,
   "metadata": {},
   "outputs": [
    {
     "data": {
      "text/html": [
       "<div>\n",
       "<style scoped>\n",
       "    .dataframe tbody tr th:only-of-type {\n",
       "        vertical-align: middle;\n",
       "    }\n",
       "\n",
       "    .dataframe tbody tr th {\n",
       "        vertical-align: top;\n",
       "    }\n",
       "\n",
       "    .dataframe thead th {\n",
       "        text-align: right;\n",
       "    }\n",
       "</style>\n",
       "<table border=\"1\" class=\"dataframe\">\n",
       "  <thead>\n",
       "    <tr style=\"text-align: right;\">\n",
       "      <th></th>\n",
       "      <th>Material</th>\n",
       "      <th>Shape</th>\n",
       "      <th>Coat/Functional Group</th>\n",
       "      <th>Synthesis_Method</th>\n",
       "      <th>Diameter (nm)</th>\n",
       "      <th>Size_in_Water (nm)</th>\n",
       "      <th>Size_in_Medium (nm)</th>\n",
       "      <th>Zeta_in_Water (mV)</th>\n",
       "      <th>Zeta_in_Medium (mV)</th>\n",
       "      <th>Cell_Type</th>\n",
       "      <th>...</th>\n",
       "      <th>Cell_Morphology</th>\n",
       "      <th>Cell_Age</th>\n",
       "      <th>Cell Line_Primary Cell</th>\n",
       "      <th>Time (hr)</th>\n",
       "      <th>Concentration (ug/ml)</th>\n",
       "      <th>Test</th>\n",
       "      <th>Test_Indicator</th>\n",
       "      <th>Aspect_Ratio</th>\n",
       "      <th>Cell_Viability (%)</th>\n",
       "      <th>is_inorganic</th>\n",
       "    </tr>\n",
       "  </thead>\n",
       "  <tbody>\n",
       "    <tr>\n",
       "      <th>0</th>\n",
       "      <td>SiO2</td>\n",
       "      <td>Sphere</td>\n",
       "      <td>CTAB</td>\n",
       "      <td>Precipitation</td>\n",
       "      <td>21.06</td>\n",
       "      <td>386.9</td>\n",
       "      <td>90.09</td>\n",
       "      <td>-35.9</td>\n",
       "      <td>-28.0</td>\n",
       "      <td>PC12</td>\n",
       "      <td>...</td>\n",
       "      <td>Irregular</td>\n",
       "      <td>Adult</td>\n",
       "      <td>L</td>\n",
       "      <td>12</td>\n",
       "      <td>1.95</td>\n",
       "      <td>MTT</td>\n",
       "      <td>TetrazoliumSalt</td>\n",
       "      <td>2.17</td>\n",
       "      <td>113.670</td>\n",
       "      <td>1</td>\n",
       "    </tr>\n",
       "    <tr>\n",
       "      <th>1</th>\n",
       "      <td>SiO2</td>\n",
       "      <td>Sphere</td>\n",
       "      <td>CTAB</td>\n",
       "      <td>Precipitation</td>\n",
       "      <td>21.06</td>\n",
       "      <td>386.9</td>\n",
       "      <td>90.09</td>\n",
       "      <td>-35.9</td>\n",
       "      <td>-28.0</td>\n",
       "      <td>PC12</td>\n",
       "      <td>...</td>\n",
       "      <td>Irregular</td>\n",
       "      <td>Adult</td>\n",
       "      <td>L</td>\n",
       "      <td>12</td>\n",
       "      <td>3.90</td>\n",
       "      <td>MTT</td>\n",
       "      <td>TetrazoliumSalt</td>\n",
       "      <td>2.17</td>\n",
       "      <td>97.265</td>\n",
       "      <td>1</td>\n",
       "    </tr>\n",
       "    <tr>\n",
       "      <th>2</th>\n",
       "      <td>SiO2</td>\n",
       "      <td>Sphere</td>\n",
       "      <td>CTAB</td>\n",
       "      <td>Precipitation</td>\n",
       "      <td>21.06</td>\n",
       "      <td>386.9</td>\n",
       "      <td>90.09</td>\n",
       "      <td>-35.9</td>\n",
       "      <td>-28.0</td>\n",
       "      <td>PC12</td>\n",
       "      <td>...</td>\n",
       "      <td>Irregular</td>\n",
       "      <td>Adult</td>\n",
       "      <td>L</td>\n",
       "      <td>12</td>\n",
       "      <td>7.80</td>\n",
       "      <td>MTT</td>\n",
       "      <td>TetrazoliumSalt</td>\n",
       "      <td>2.17</td>\n",
       "      <td>10873.000</td>\n",
       "      <td>1</td>\n",
       "    </tr>\n",
       "    <tr>\n",
       "      <th>3</th>\n",
       "      <td>SiO2</td>\n",
       "      <td>Sphere</td>\n",
       "      <td>CTAB</td>\n",
       "      <td>Precipitation</td>\n",
       "      <td>21.06</td>\n",
       "      <td>386.9</td>\n",
       "      <td>90.09</td>\n",
       "      <td>-35.9</td>\n",
       "      <td>-28.0</td>\n",
       "      <td>PC12</td>\n",
       "      <td>...</td>\n",
       "      <td>Irregular</td>\n",
       "      <td>Adult</td>\n",
       "      <td>L</td>\n",
       "      <td>12</td>\n",
       "      <td>15.60</td>\n",
       "      <td>MTT</td>\n",
       "      <td>TetrazoliumSalt</td>\n",
       "      <td>2.17</td>\n",
       "      <td>98.451</td>\n",
       "      <td>1</td>\n",
       "    </tr>\n",
       "    <tr>\n",
       "      <th>4</th>\n",
       "      <td>SiO2</td>\n",
       "      <td>Sphere</td>\n",
       "      <td>CTAB</td>\n",
       "      <td>Precipitation</td>\n",
       "      <td>21.06</td>\n",
       "      <td>386.9</td>\n",
       "      <td>90.09</td>\n",
       "      <td>-35.9</td>\n",
       "      <td>-28.0</td>\n",
       "      <td>PC12</td>\n",
       "      <td>...</td>\n",
       "      <td>Irregular</td>\n",
       "      <td>Adult</td>\n",
       "      <td>L</td>\n",
       "      <td>12</td>\n",
       "      <td>31.20</td>\n",
       "      <td>MTT</td>\n",
       "      <td>TetrazoliumSalt</td>\n",
       "      <td>2.17</td>\n",
       "      <td>98.056</td>\n",
       "      <td>1</td>\n",
       "    </tr>\n",
       "  </tbody>\n",
       "</table>\n",
       "<p>5 rows × 22 columns</p>\n",
       "</div>"
      ],
      "text/plain": [
       "  Material   Shape Coat/Functional Group Synthesis_Method  Diameter (nm)  \\\n",
       "0     SiO2  Sphere                  CTAB    Precipitation          21.06   \n",
       "1     SiO2  Sphere                  CTAB    Precipitation          21.06   \n",
       "2     SiO2  Sphere                  CTAB    Precipitation          21.06   \n",
       "3     SiO2  Sphere                  CTAB    Precipitation          21.06   \n",
       "4     SiO2  Sphere                  CTAB    Precipitation          21.06   \n",
       "\n",
       "   Size_in_Water (nm)  Size_in_Medium (nm)  Zeta_in_Water (mV)  \\\n",
       "0               386.9                90.09               -35.9   \n",
       "1               386.9                90.09               -35.9   \n",
       "2               386.9                90.09               -35.9   \n",
       "3               386.9                90.09               -35.9   \n",
       "4               386.9                90.09               -35.9   \n",
       "\n",
       "   Zeta_in_Medium (mV) Cell_Type  ... Cell_Morphology Cell_Age  \\\n",
       "0                -28.0      PC12  ...       Irregular    Adult   \n",
       "1                -28.0      PC12  ...       Irregular    Adult   \n",
       "2                -28.0      PC12  ...       Irregular    Adult   \n",
       "3                -28.0      PC12  ...       Irregular    Adult   \n",
       "4                -28.0      PC12  ...       Irregular    Adult   \n",
       "\n",
       "  Cell Line_Primary Cell Time (hr) Concentration (ug/ml)  Test  \\\n",
       "0                      L        12                  1.95   MTT   \n",
       "1                      L        12                  3.90   MTT   \n",
       "2                      L        12                  7.80   MTT   \n",
       "3                      L        12                 15.60   MTT   \n",
       "4                      L        12                 31.20   MTT   \n",
       "\n",
       "    Test_Indicator Aspect_Ratio Cell_Viability (%)  is_inorganic  \n",
       "0  TetrazoliumSalt         2.17            113.670             1  \n",
       "1  TetrazoliumSalt         2.17             97.265             1  \n",
       "2  TetrazoliumSalt         2.17          10873.000             1  \n",
       "3  TetrazoliumSalt         2.17             98.451             1  \n",
       "4  TetrazoliumSalt         2.17             98.056             1  \n",
       "\n",
       "[5 rows x 22 columns]"
      ]
     },
     "execution_count": 5,
     "metadata": {},
     "output_type": "execute_result"
    }
   ],
   "source": [
    "db3.head()"
   ]
  },
  {
   "cell_type": "code",
   "execution_count": 6,
   "metadata": {},
   "outputs": [
    {
     "data": {
      "text/plain": [
       "array(['Eudragit RL', 'Dendrimer', 'PLGA', 'Polystyrene', 'Liposomes',\n",
       "       'SLN', 'Carbon Nanotubes', 'Carbon NP', 'Chitosan'], dtype=object)"
      ]
     },
     "execution_count": 6,
     "metadata": {},
     "output_type": "execute_result"
    }
   ],
   "source": [
    "# Просмотри органических соединений из БД2\n",
    "db2['Nanoparticle'][db2['is_inorganic'] == 0].unique()"
   ]
  },
  {
   "cell_type": "code",
   "execution_count": 7,
   "metadata": {},
   "outputs": [
    {
     "data": {
      "text/plain": [
       "array(['CuO', 'ZnO', 'Mn2O3', 'CoO', 'CeO2', 'Fe2O3', 'Gd2O3', 'HfO2',\n",
       "       'In2O3', 'La2O3', 'NiO', 'Sb2O3', 'SiO2', 'Al2O3'], dtype=object)"
      ]
     },
     "execution_count": 7,
     "metadata": {},
     "output_type": "execute_result"
    }
   ],
   "source": [
    "# Просмотри всех типов веществ из 1-й БД\n",
    "db1['Material type'].unique()"
   ]
  },
  {
   "cell_type": "code",
   "execution_count": 8,
   "metadata": {},
   "outputs": [],
   "source": [
    "# Добавление признака в 1-ую БД\n",
    "db1['is_inorganic'] = np.ones(len(db1))"
   ]
  },
  {
   "cell_type": "code",
   "execution_count": 9,
   "metadata": {},
   "outputs": [
    {
     "data": {
      "text/plain": [
       "array(['SiO2', 'QD', 'Fe2O3', 'Bi', 'Au', 'Ag', 'TiO2', 'Dendrimer',\n",
       "       'PLGA', 'Alginate', 'PTFE-PMMA', 'ZnO', 'Pt', 'CuO', 'CeO2',\n",
       "       'Co3O4', 'Carbon NT', 'HAP', 'MgO', 'Polystyrene', 'Ni',\n",
       "       'Chitosan', 'Al2O3', 'SLN', 'EudragitRL', 'Carbon', 'ZrO2', 'C60',\n",
       "       'C70', 'Diamond', 'Graphite', 'NiO', 'Cu', 'Bi2O3'], dtype=object)"
      ]
     },
     "execution_count": 9,
     "metadata": {},
     "output_type": "execute_result"
    }
   ],
   "source": [
    "db3['Material'].unique()"
   ]
  },
  {
   "cell_type": "code",
   "execution_count": 10,
   "metadata": {},
   "outputs": [],
   "source": [
    "# Добавление признака органичности в 3-ю БД\n",
    "organic = [\n",
    "    'EudragitRL', 'Dendrimer', 'Polystyrene',\n",
    "    'Carbon', 'Chitosan', 'HAP', 'Carbon NT', 'PLGA',\n",
    "    'SLN', 'Alginate'\n",
    "]\n",
    "\n",
    "db3['is_inorganic'] = db3['Material'].apply(lambda x: x not in organic)"
   ]
  },
  {
   "cell_type": "code",
   "execution_count": 11,
   "metadata": {},
   "outputs": [],
   "source": [
    "# Признак источника клетки (Животное/Человек)\n",
    "db1['Cell_Source'] = ['A'] * len(db1)"
   ]
  },
  {
   "cell_type": "code",
   "execution_count": 12,
   "metadata": {},
   "outputs": [],
   "source": [
    "db3.rename({\n",
    "    'Human_Animal': 'Cell_Source'\n",
    "}, axis=1, inplace=True)"
   ]
  },
  {
   "cell_type": "code",
   "execution_count": 13,
   "metadata": {},
   "outputs": [
    {
     "data": {
      "text/plain": [
       "array(['CeO2', 'Se', 'CuO', 'CuS', 'ZnO', 'Fe2O3', 'TiO2', 'Ti', 'Cr',\n",
       "       'Co', 'Co3O4', 'CdO', 'MnO', 'Bi', 'Mo', 'Pt', 'Hydroxyapatite',\n",
       "       'Cu2O', 'MgO', 'Al2O3', 'QDs', 'SiO2', 'Au', 'Ag', 'Eudragit RL',\n",
       "       'Dendrimer', 'PLGA', 'Polystyrene', 'Liposomes', 'SLN',\n",
       "       'Carbon Nanotubes', 'Carbon NP', 'Chitosan'], dtype=object)"
      ]
     },
     "execution_count": 13,
     "metadata": {},
     "output_type": "execute_result"
    }
   ],
   "source": [
    "db2['Nanoparticle'].unique()"
   ]
  },
  {
   "cell_type": "code",
   "execution_count": 14,
   "metadata": {},
   "outputs": [
    {
     "name": "stderr",
     "output_type": "stream",
     "text": [
      "d:\\python\\lib\\site-packages\\pymatgen\\core\\periodic_table.py:210: UserWarning: No electronegativity for Ds. Setting to NaN. This has no physical meaning, and is mainly done to avoid errors caused by the code expecting a float.\n",
      "  warnings.warn(\n"
     ]
    }
   ],
   "source": [
    "from pymatgen.core.composition import Composition\n",
    "from funcs import get_electroneg\n",
    "\n",
    "# Новые признаки для БД 1-3:\n",
    "# 1) Электроотрицательность\n",
    "# 2) Молекулярная масса\n",
    "\n",
    "other = {\n",
    "    'Diamond': 12,\n",
    "    'Graphite': 12,\n",
    "    'Polystyrene': 104,\n",
    "    'Carbon': 12,\n",
    "    'Carbon NT': 12,\n",
    "    'EudraginRL': 231\n",
    "}\n",
    "\n",
    "for mat, db in zip(['Material', 'Nanoparticle'], [db3, db2]):\n",
    "    weights = []\n",
    "\n",
    "    for formula in db[mat]:\n",
    "        try:\n",
    "            comp = Composition(formula)\n",
    "            weights.append(comp.weight)\n",
    "        except:\n",
    "            if formula in other:\n",
    "                weights.append(other[formula])\n",
    "            else:\n",
    "                weights.append(np.nan)\n",
    "\n",
    "    db['Molecular weight (g/mol)'] = np.array(weights)\n",
    "    db['Electronegativity'] = get_electroneg(db[mat])\n",
    "    fill_with_mode(db['Molecular weight (g/mol)'])\n",
    "    fill_with_mode(db['Electronegativity'])"
   ]
  },
  {
   "cell_type": "code",
   "execution_count": 15,
   "metadata": {},
   "outputs": [],
   "source": [
    "# Изменение единиц измерения концентрации во 2-й БД\n",
    "db2['Concentration (ug/mL)'] = db2['Concentration μM'] * db2['Molecular weight (g/mol)'] * 1000"
   ]
  },
  {
   "cell_type": "code",
   "execution_count": 16,
   "metadata": {},
   "outputs": [],
   "source": [
    "# Переименование\n",
    "db1.rename({\n",
    "    'Surface charge (mV)': 'Zeta_in_Water (mV)',\n",
    "    'Material type': 'Nanoparticle',\n",
    "    'Exposure dose (ug/mL)': 'Concentration (ug/mL)',\n",
    "    'Hydro size (nm)': 'Diameter (nm)'\n",
    "}, inplace=True, axis=1)"
   ]
  },
  {
   "cell_type": "code",
   "execution_count": 17,
   "metadata": {},
   "outputs": [],
   "source": [
    "db2.rename({\n",
    "    '% Cell viability': 'Viability (%)',\n",
    "    'Human(H)/Animal(A) cells': 'Cell_Source',\n",
    "    'Exposure time (h)': 'Time (hr)',\n",
    "    'Cell-organ/tissue source': 'Cell_Tissue',\n",
    "    'Cell morphology': 'Cell_Morphology',\n",
    "    'Test indicator': 'Test_Indicator',\n",
    "    'Cell age': 'Cell_Age',\n",
    "    'Zeta potential (mV)': 'Zeta_in_Water (mV)',\n",
    "    'Cells': 'Cell_Type'\n",
    "}, inplace=True, axis=1)"
   ]
  },
  {
   "cell_type": "code",
   "execution_count": 18,
   "metadata": {},
   "outputs": [],
   "source": [
    "db3.rename({\n",
    "    'Material': 'Nanoparticle',\n",
    "    'Cell_Viability (%)': 'Viability (%)',\n",
    "    'Concentration (ug/ml)': 'Concentration (ug/mL)',\n",
    "    'Coat/Functional Group': 'coat',\n",
    "    'Cell Line_Primary Cell': 'Cell line (L)/primary cells (P)'\n",
    "}, inplace=True, axis=1)"
   ]
  },
  {
   "cell_type": "code",
   "execution_count": 19,
   "metadata": {},
   "outputs": [
    {
     "data": {
      "text/plain": [
       "array(['Cell_Source', 'Topological polar surface area (Å²)',\n",
       "       'Cell line (L)/primary cells (P)', 'Core size (nm)',\n",
       "       'Zeta_in_Medium (mV)', 'Synthesis_Method', 'Number of atoms',\n",
       "       'Size_in_Medium (nm)', 'Animal', 'Nanoparticle', 'Cell_Type',\n",
       "       'is_inorganic', 'Cell_Morphology', 'Test_Indicator', 'Time (hr)',\n",
       "       'Zeta_in_Water (mV)', 'Biochemical metric', 'Density (g/cm3)',\n",
       "       'Electronegativity', 'Cell_Tissue', 'Cell_Age', 'Concentration μM',\n",
       "       'Concentration (ug/mL)', 'Aspect_Ratio', 'Shape',\n",
       "       'Molecular weight (g/mol)', 'Interference checked (Y/N)',\n",
       "       'Colloidal stability checked (Y/N)', 'Diameter (nm)',\n",
       "       'Viability (%)', 'Size_in_Water (nm)', 'coat',\n",
       "       'Positive control (Y/N)', 'Ionic radius', 'Test',\n",
       "       'Surface area (m2/g)', 'Elements', 'Cell type'], dtype='<U35')"
      ]
     },
     "execution_count": 19,
     "metadata": {},
     "output_type": "execute_result"
    }
   ],
   "source": [
    "# Все колонки в 1-3 БД\n",
    "np.array(list(set(db1.columns) | set(db2.columns) | set(db3.columns)))"
   ]
  },
  {
   "cell_type": "code",
   "execution_count": 20,
   "metadata": {},
   "outputs": [],
   "source": [
    "# Ненужные колонки\n",
    "garbage = set([\n",
    "    'Number of atoms', 'Colloidal stability checked (Y/N)',\n",
    "    'Biochemical metric', 'Cell type', 'Elements', 'Interference checked (Y/N)',\n",
    "    'Cell Line_Primary Cell', 'Aspect_Ratio', 'Ionic radius', 'Concentration μM',\n",
    "    'Positive control (Y/N)', 'Core size (nm)', 'Animal', 'Synthesis_Method',\n",
    "    'Shape', 'Topological polar surface area (Å²)'\n",
    "])"
   ]
  },
  {
   "cell_type": "code",
   "execution_count": 21,
   "metadata": {},
   "outputs": [],
   "source": [
    "# Удаление ненужных колонок из БД 1-3\n",
    "all_cols = set()\n",
    "\n",
    "for db in [db1, db2, db3]:\n",
    "    cols = list(set(db.columns) & garbage)\n",
    "    db.drop(cols, axis=1, inplace=True)\n",
    "    all_cols |= set(db.columns)"
   ]
  },
  {
   "cell_type": "code",
   "execution_count": 22,
   "metadata": {},
   "outputs": [
    {
     "data": {
      "text/plain": [
       "{'Cell line (L)/primary cells (P)',\n",
       " 'Cell_Age',\n",
       " 'Cell_Morphology',\n",
       " 'Cell_Source',\n",
       " 'Cell_Tissue',\n",
       " 'Cell_Type',\n",
       " 'Concentration (ug/mL)',\n",
       " 'Density (g/cm3)',\n",
       " 'Diameter (nm)',\n",
       " 'Electronegativity',\n",
       " 'Molecular weight (g/mol)',\n",
       " 'Nanoparticle',\n",
       " 'Size_in_Medium (nm)',\n",
       " 'Size_in_Water (nm)',\n",
       " 'Surface area (m2/g)',\n",
       " 'Test',\n",
       " 'Test_Indicator',\n",
       " 'Time (hr)',\n",
       " 'Viability (%)',\n",
       " 'Zeta_in_Medium (mV)',\n",
       " 'Zeta_in_Water (mV)',\n",
       " 'coat',\n",
       " 'is_inorganic'}"
      ]
     },
     "execution_count": 22,
     "metadata": {},
     "output_type": "execute_result"
    }
   ],
   "source": [
    "all_cols"
   ]
  },
  {
   "cell_type": "code",
   "execution_count": 23,
   "metadata": {},
   "outputs": [],
   "source": [
    "# Добавление недостающих колонок для БД 1-3\n",
    "for db in [db1, db2, db3]:\n",
    "    to_add = all_cols - set(db.columns)\n",
    "    for ta in to_add:\n",
    "        db[ta] = [np.nan] * len(db)"
   ]
  },
  {
   "cell_type": "code",
   "execution_count": 24,
   "metadata": {},
   "outputs": [],
   "source": [
    "# Соединение\n",
    "db123 = pd.concat([db1, db2, db3], axis=0)\n",
    "db123.reset_index(inplace=True, drop=True)"
   ]
  },
  {
   "cell_type": "code",
   "execution_count": 25,
   "metadata": {},
   "outputs": [
    {
     "data": {
      "text/html": [
       "<div>\n",
       "<style scoped>\n",
       "    .dataframe tbody tr th:only-of-type {\n",
       "        vertical-align: middle;\n",
       "    }\n",
       "\n",
       "    .dataframe tbody tr th {\n",
       "        vertical-align: top;\n",
       "    }\n",
       "\n",
       "    .dataframe thead th {\n",
       "        text-align: right;\n",
       "    }\n",
       "</style>\n",
       "<table border=\"1\" class=\"dataframe\">\n",
       "  <thead>\n",
       "    <tr style=\"text-align: right;\">\n",
       "      <th></th>\n",
       "      <th>Nanoparticle</th>\n",
       "      <th>Electronegativity</th>\n",
       "      <th>Diameter (nm)</th>\n",
       "      <th>Zeta_in_Water (mV)</th>\n",
       "      <th>Surface area (m2/g)</th>\n",
       "      <th>Concentration (ug/mL)</th>\n",
       "      <th>Molecular weight (g/mol)</th>\n",
       "      <th>Density (g/cm3)</th>\n",
       "      <th>Viability (%)</th>\n",
       "      <th>is_inorganic</th>\n",
       "      <th>...</th>\n",
       "      <th>Cell_Type</th>\n",
       "      <th>Cell_Morphology</th>\n",
       "      <th>Test_Indicator</th>\n",
       "      <th>Time (hr)</th>\n",
       "      <th>Test</th>\n",
       "      <th>Cell line (L)/primary cells (P)</th>\n",
       "      <th>Zeta_in_Medium (mV)</th>\n",
       "      <th>Cell_Tissue</th>\n",
       "      <th>Size_in_Medium (nm)</th>\n",
       "      <th>Size_in_Water (nm)</th>\n",
       "    </tr>\n",
       "  </thead>\n",
       "  <tbody>\n",
       "    <tr>\n",
       "      <th>0</th>\n",
       "      <td>CuO</td>\n",
       "      <td>1.90</td>\n",
       "      <td>313.8</td>\n",
       "      <td>7.6</td>\n",
       "      <td>74.2</td>\n",
       "      <td>200.0</td>\n",
       "      <td>79.5450</td>\n",
       "      <td>5.94</td>\n",
       "      <td>9.1</td>\n",
       "      <td>1.0</td>\n",
       "      <td>...</td>\n",
       "      <td>NaN</td>\n",
       "      <td>NaN</td>\n",
       "      <td>NaN</td>\n",
       "      <td>NaN</td>\n",
       "      <td>NaN</td>\n",
       "      <td>NaN</td>\n",
       "      <td>NaN</td>\n",
       "      <td>NaN</td>\n",
       "      <td>NaN</td>\n",
       "      <td>NaN</td>\n",
       "    </tr>\n",
       "    <tr>\n",
       "      <th>1</th>\n",
       "      <td>ZnO</td>\n",
       "      <td>1.65</td>\n",
       "      <td>114.7</td>\n",
       "      <td>28.8</td>\n",
       "      <td>47.4</td>\n",
       "      <td>200.0</td>\n",
       "      <td>81.3800</td>\n",
       "      <td>5.44</td>\n",
       "      <td>9.5</td>\n",
       "      <td>1.0</td>\n",
       "      <td>...</td>\n",
       "      <td>NaN</td>\n",
       "      <td>NaN</td>\n",
       "      <td>NaN</td>\n",
       "      <td>NaN</td>\n",
       "      <td>NaN</td>\n",
       "      <td>NaN</td>\n",
       "      <td>NaN</td>\n",
       "      <td>NaN</td>\n",
       "      <td>NaN</td>\n",
       "      <td>NaN</td>\n",
       "    </tr>\n",
       "    <tr>\n",
       "      <th>2</th>\n",
       "      <td>ZnO</td>\n",
       "      <td>1.65</td>\n",
       "      <td>114.7</td>\n",
       "      <td>28.8</td>\n",
       "      <td>47.4</td>\n",
       "      <td>100.0</td>\n",
       "      <td>81.3800</td>\n",
       "      <td>5.44</td>\n",
       "      <td>10.2</td>\n",
       "      <td>1.0</td>\n",
       "      <td>...</td>\n",
       "      <td>NaN</td>\n",
       "      <td>NaN</td>\n",
       "      <td>NaN</td>\n",
       "      <td>NaN</td>\n",
       "      <td>NaN</td>\n",
       "      <td>NaN</td>\n",
       "      <td>NaN</td>\n",
       "      <td>NaN</td>\n",
       "      <td>NaN</td>\n",
       "      <td>NaN</td>\n",
       "    </tr>\n",
       "    <tr>\n",
       "      <th>3</th>\n",
       "      <td>ZnO</td>\n",
       "      <td>1.65</td>\n",
       "      <td>69.4</td>\n",
       "      <td>28.8</td>\n",
       "      <td>47.4</td>\n",
       "      <td>100.0</td>\n",
       "      <td>81.3800</td>\n",
       "      <td>5.44</td>\n",
       "      <td>11.0</td>\n",
       "      <td>1.0</td>\n",
       "      <td>...</td>\n",
       "      <td>NaN</td>\n",
       "      <td>NaN</td>\n",
       "      <td>NaN</td>\n",
       "      <td>NaN</td>\n",
       "      <td>NaN</td>\n",
       "      <td>NaN</td>\n",
       "      <td>NaN</td>\n",
       "      <td>NaN</td>\n",
       "      <td>NaN</td>\n",
       "      <td>NaN</td>\n",
       "    </tr>\n",
       "    <tr>\n",
       "      <th>4</th>\n",
       "      <td>Mn2O3</td>\n",
       "      <td>1.55</td>\n",
       "      <td>291.7</td>\n",
       "      <td>-46.1</td>\n",
       "      <td>25.9</td>\n",
       "      <td>200.0</td>\n",
       "      <td>157.8743</td>\n",
       "      <td>4.59</td>\n",
       "      <td>11.3</td>\n",
       "      <td>1.0</td>\n",
       "      <td>...</td>\n",
       "      <td>NaN</td>\n",
       "      <td>NaN</td>\n",
       "      <td>NaN</td>\n",
       "      <td>NaN</td>\n",
       "      <td>NaN</td>\n",
       "      <td>NaN</td>\n",
       "      <td>NaN</td>\n",
       "      <td>NaN</td>\n",
       "      <td>NaN</td>\n",
       "      <td>NaN</td>\n",
       "    </tr>\n",
       "  </tbody>\n",
       "</table>\n",
       "<p>5 rows × 23 columns</p>\n",
       "</div>"
      ],
      "text/plain": [
       "  Nanoparticle  Electronegativity  Diameter (nm)  Zeta_in_Water (mV)  \\\n",
       "0          CuO               1.90          313.8                 7.6   \n",
       "1          ZnO               1.65          114.7                28.8   \n",
       "2          ZnO               1.65          114.7                28.8   \n",
       "3          ZnO               1.65           69.4                28.8   \n",
       "4        Mn2O3               1.55          291.7               -46.1   \n",
       "\n",
       "   Surface area (m2/g)  Concentration (ug/mL)  Molecular weight (g/mol)  \\\n",
       "0                 74.2                  200.0                   79.5450   \n",
       "1                 47.4                  200.0                   81.3800   \n",
       "2                 47.4                  100.0                   81.3800   \n",
       "3                 47.4                  100.0                   81.3800   \n",
       "4                 25.9                  200.0                  157.8743   \n",
       "\n",
       "   Density (g/cm3)  Viability (%)  is_inorganic  ... Cell_Type  \\\n",
       "0             5.94            9.1           1.0  ...       NaN   \n",
       "1             5.44            9.5           1.0  ...       NaN   \n",
       "2             5.44           10.2           1.0  ...       NaN   \n",
       "3             5.44           11.0           1.0  ...       NaN   \n",
       "4             4.59           11.3           1.0  ...       NaN   \n",
       "\n",
       "  Cell_Morphology Test_Indicator Time (hr) Test  \\\n",
       "0             NaN            NaN       NaN  NaN   \n",
       "1             NaN            NaN       NaN  NaN   \n",
       "2             NaN            NaN       NaN  NaN   \n",
       "3             NaN            NaN       NaN  NaN   \n",
       "4             NaN            NaN       NaN  NaN   \n",
       "\n",
       "  Cell line (L)/primary cells (P)  Zeta_in_Medium (mV) Cell_Tissue  \\\n",
       "0                             NaN                  NaN         NaN   \n",
       "1                             NaN                  NaN         NaN   \n",
       "2                             NaN                  NaN         NaN   \n",
       "3                             NaN                  NaN         NaN   \n",
       "4                             NaN                  NaN         NaN   \n",
       "\n",
       "  Size_in_Medium (nm)  Size_in_Water (nm)  \n",
       "0                 NaN                 NaN  \n",
       "1                 NaN                 NaN  \n",
       "2                 NaN                 NaN  \n",
       "3                 NaN                 NaN  \n",
       "4                 NaN                 NaN  \n",
       "\n",
       "[5 rows x 23 columns]"
      ]
     },
     "execution_count": 25,
     "metadata": {},
     "output_type": "execute_result"
    }
   ],
   "source": [
    "db123.head()"
   ]
  },
  {
   "cell_type": "code",
   "execution_count": 26,
   "metadata": {},
   "outputs": [
    {
     "data": {
      "text/html": [
       "<div>\n",
       "<style scoped>\n",
       "    .dataframe tbody tr th:only-of-type {\n",
       "        vertical-align: middle;\n",
       "    }\n",
       "\n",
       "    .dataframe tbody tr th {\n",
       "        vertical-align: top;\n",
       "    }\n",
       "\n",
       "    .dataframe thead th {\n",
       "        text-align: right;\n",
       "    }\n",
       "</style>\n",
       "<table border=\"1\" class=\"dataframe\">\n",
       "  <thead>\n",
       "    <tr style=\"text-align: right;\">\n",
       "      <th></th>\n",
       "      <th>Material type</th>\n",
       "      <th>Viability (%)</th>\n",
       "      <th>Ionic radius</th>\n",
       "      <th>Hydro size (nm)</th>\n",
       "      <th>Core size (nm)</th>\n",
       "      <th>Concentration (ug/mL)</th>\n",
       "      <th>Zeta potential (mV)</th>\n",
       "      <th>Surface area (m2/g)</th>\n",
       "      <th>Exposure time (h)</th>\n",
       "      <th>Molecular weight (g/mol)</th>\n",
       "      <th>Electronegativity</th>\n",
       "      <th>Density (g/cm3)</th>\n",
       "      <th>Cell-organ/tissue source</th>\n",
       "    </tr>\n",
       "  </thead>\n",
       "  <tbody>\n",
       "    <tr>\n",
       "      <th>0</th>\n",
       "      <td>CuO</td>\n",
       "      <td>9.1</td>\n",
       "      <td>73</td>\n",
       "      <td>313.8</td>\n",
       "      <td>12.8</td>\n",
       "      <td>200.0</td>\n",
       "      <td>7.6</td>\n",
       "      <td>74.2</td>\n",
       "      <td>NaN</td>\n",
       "      <td>79.545</td>\n",
       "      <td>1.9</td>\n",
       "      <td>5.94</td>\n",
       "      <td>NaN</td>\n",
       "    </tr>\n",
       "    <tr>\n",
       "      <th>1</th>\n",
       "      <td>ZnO</td>\n",
       "      <td>9.5</td>\n",
       "      <td>74</td>\n",
       "      <td>114.7</td>\n",
       "      <td>22.6</td>\n",
       "      <td>200.0</td>\n",
       "      <td>28.8</td>\n",
       "      <td>47.4</td>\n",
       "      <td>NaN</td>\n",
       "      <td>81.38</td>\n",
       "      <td>1.65</td>\n",
       "      <td>5.44</td>\n",
       "      <td>NaN</td>\n",
       "    </tr>\n",
       "    <tr>\n",
       "      <th>2</th>\n",
       "      <td>ZnO</td>\n",
       "      <td>10.2</td>\n",
       "      <td>74</td>\n",
       "      <td>114.7</td>\n",
       "      <td>22.6</td>\n",
       "      <td>100.0</td>\n",
       "      <td>28.8</td>\n",
       "      <td>47.4</td>\n",
       "      <td>NaN</td>\n",
       "      <td>81.38</td>\n",
       "      <td>1.65</td>\n",
       "      <td>5.44</td>\n",
       "      <td>NaN</td>\n",
       "    </tr>\n",
       "    <tr>\n",
       "      <th>3</th>\n",
       "      <td>ZnO</td>\n",
       "      <td>11.0</td>\n",
       "      <td>74</td>\n",
       "      <td>69.4</td>\n",
       "      <td>22.6</td>\n",
       "      <td>100.0</td>\n",
       "      <td>28.8</td>\n",
       "      <td>47.4</td>\n",
       "      <td>NaN</td>\n",
       "      <td>81.38</td>\n",
       "      <td>1.65</td>\n",
       "      <td>5.44</td>\n",
       "      <td>NaN</td>\n",
       "    </tr>\n",
       "    <tr>\n",
       "      <th>4</th>\n",
       "      <td>Mn2O3</td>\n",
       "      <td>11.3</td>\n",
       "      <td>58</td>\n",
       "      <td>291.7</td>\n",
       "      <td>51.5</td>\n",
       "      <td>200.0</td>\n",
       "      <td>-46.1</td>\n",
       "      <td>25.9</td>\n",
       "      <td>NaN</td>\n",
       "      <td>157.8743</td>\n",
       "      <td>1.55</td>\n",
       "      <td>4.59</td>\n",
       "      <td>NaN</td>\n",
       "    </tr>\n",
       "  </tbody>\n",
       "</table>\n",
       "</div>"
      ],
      "text/plain": [
       "  Material type  Viability (%) Ionic radius  Hydro size (nm)  Core size (nm)  \\\n",
       "0           CuO            9.1           73            313.8            12.8   \n",
       "1           ZnO            9.5           74            114.7            22.6   \n",
       "2           ZnO           10.2           74            114.7            22.6   \n",
       "3           ZnO           11.0           74             69.4            22.6   \n",
       "4         Mn2O3           11.3           58            291.7            51.5   \n",
       "\n",
       "   Concentration (ug/mL)  Zeta potential (mV)  Surface area (m2/g)  \\\n",
       "0                  200.0                  7.6                 74.2   \n",
       "1                  200.0                 28.8                 47.4   \n",
       "2                  100.0                 28.8                 47.4   \n",
       "3                  100.0                 28.8                 47.4   \n",
       "4                  200.0                -46.1                 25.9   \n",
       "\n",
       "   Exposure time (h) Molecular weight (g/mol) Electronegativity  \\\n",
       "0                NaN                   79.545               1.9   \n",
       "1                NaN                    81.38              1.65   \n",
       "2                NaN                    81.38              1.65   \n",
       "3                NaN                    81.38              1.65   \n",
       "4                NaN                 157.8743              1.55   \n",
       "\n",
       "  Density (g/cm3) Cell-organ/tissue source  \n",
       "0            5.94                      NaN  \n",
       "1            5.44                      NaN  \n",
       "2            5.44                      NaN  \n",
       "3            5.44                      NaN  \n",
       "4            4.59                      NaN  "
      ]
     },
     "execution_count": 26,
     "metadata": {},
     "output_type": "execute_result"
    }
   ],
   "source": [
    "# Загрузка соединённых БД 4-5\n",
    "db45 = pd.read_excel('Database_45.xlsx')\n",
    "db45.head()"
   ]
  },
  {
   "cell_type": "code",
   "execution_count": 27,
   "metadata": {},
   "outputs": [],
   "source": [
    "# Переименование столбцов\n",
    "db45.rename({\n",
    "    'Hydro size (nm)': 'Diameter (nm)',\n",
    "    'Material type': 'Nanoparticle',\n",
    "    'Exposure time (h)' : 'Time (hr)'\n",
    "}, axis=1, inplace=True)"
   ]
  },
  {
   "cell_type": "code",
   "execution_count": 28,
   "metadata": {},
   "outputs": [],
   "source": [
    "# Добавление столбцов\n",
    "db45['Cell_Source'] = ['A'] * len(db45)\n",
    "db45['Density (g/cm3)'] = [np.nan] * len(db45)"
   ]
  },
  {
   "cell_type": "code",
   "execution_count": 29,
   "metadata": {},
   "outputs": [
    {
     "data": {
      "text/plain": [
       "array(['Eudragit RL', 'Eudragit RL', 'Eudragit RL', ..., 'Polystyrene',\n",
       "       'Polystyrene', 'Polystyrene'], dtype=object)"
      ]
     },
     "execution_count": 29,
     "metadata": {},
     "output_type": "execute_result"
    }
   ],
   "source": [
    "# Добавление столбца органичности для БД 4-5\n",
    "organic = db123['Nanoparticle'][db123['is_inorganic'] == 0].values\n",
    "organic"
   ]
  },
  {
   "cell_type": "code",
   "execution_count": 30,
   "metadata": {},
   "outputs": [],
   "source": [
    "db45['is_inorganic'] = db45['Nanoparticle'].apply(lambda x: x not in organic).astype('int32')"
   ]
  },
  {
   "cell_type": "code",
   "execution_count": 31,
   "metadata": {},
   "outputs": [
    {
     "data": {
      "text/plain": [
       "Index(['Nanoparticle', 'Electronegativity', 'Diameter (nm)',\n",
       "       'Zeta_in_Water (mV)', 'Surface area (m2/g)', 'Concentration (ug/mL)',\n",
       "       'Molecular weight (g/mol)', 'Density (g/cm3)', 'Viability (%)',\n",
       "       'is_inorganic', 'Cell_Source', 'Cell_Age', 'coat', 'Cell_Type',\n",
       "       'Cell_Morphology', 'Test_Indicator', 'Time (hr)', 'Test',\n",
       "       'Cell line (L)/primary cells (P)', 'Zeta_in_Medium (mV)', 'Cell_Tissue',\n",
       "       'Size_in_Medium (nm)', 'Size_in_Water (nm)'],\n",
       "      dtype='object')"
      ]
     },
     "execution_count": 31,
     "metadata": {},
     "output_type": "execute_result"
    }
   ],
   "source": [
    "db123.columns"
   ]
  },
  {
   "cell_type": "code",
   "execution_count": 32,
   "metadata": {},
   "outputs": [
    {
     "data": {
      "text/plain": [
       "Index(['Nanoparticle', 'Viability (%)', 'Ionic radius', 'Diameter (nm)',\n",
       "       'Core size (nm)', 'Concentration (ug/mL)', 'Zeta potential (mV)',\n",
       "       'Surface area (m2/g)', 'Time (hr)', 'Molecular weight (g/mol)',\n",
       "       'Electronegativity', 'Density (g/cm3)', 'Cell-organ/tissue source',\n",
       "       'Cell_Source', 'is_inorganic'],\n",
       "      dtype='object')"
      ]
     },
     "execution_count": 32,
     "metadata": {},
     "output_type": "execute_result"
    }
   ],
   "source": [
    "db45.columns"
   ]
  },
  {
   "cell_type": "code",
   "execution_count": 33,
   "metadata": {},
   "outputs": [],
   "source": [
    "# Ещё переименование\n",
    "db45.rename({\n",
    "    'Cell-organ/tissue source': 'Cell_Tissue',\n",
    "    'Zeta potential (mV)': 'Zeta_in_Water (mV)'\n",
    "}, axis=1, inplace=True)"
   ]
  },
  {
   "cell_type": "code",
   "execution_count": 34,
   "metadata": {},
   "outputs": [
    {
     "data": {
      "text/plain": [
       "['Ionic radius', 'Core size (nm)']"
      ]
     },
     "execution_count": 34,
     "metadata": {},
     "output_type": "execute_result"
    }
   ],
   "source": [
    "# Удаление столбцов из БД 4-5, которых нет в БД 1-3\n",
    "to_remove = [col for col in db45.columns if col not in db123.columns]\n",
    "to_remove"
   ]
  },
  {
   "cell_type": "code",
   "execution_count": 35,
   "metadata": {},
   "outputs": [],
   "source": [
    "db45.drop(to_remove, axis=1, inplace=True)"
   ]
  },
  {
   "cell_type": "code",
   "execution_count": 36,
   "metadata": {},
   "outputs": [],
   "source": [
    "# Добавление в БД 4-5 недостающих колонок\n",
    "for col in set(db123.columns) - set(db45.columns):\n",
    "    db45[col] = [np.nan] * len(db45)"
   ]
  },
  {
   "cell_type": "code",
   "execution_count": 37,
   "metadata": {},
   "outputs": [
    {
     "data": {
      "text/html": [
       "<div>\n",
       "<style scoped>\n",
       "    .dataframe tbody tr th:only-of-type {\n",
       "        vertical-align: middle;\n",
       "    }\n",
       "\n",
       "    .dataframe tbody tr th {\n",
       "        vertical-align: top;\n",
       "    }\n",
       "\n",
       "    .dataframe thead th {\n",
       "        text-align: right;\n",
       "    }\n",
       "</style>\n",
       "<table border=\"1\" class=\"dataframe\">\n",
       "  <thead>\n",
       "    <tr style=\"text-align: right;\">\n",
       "      <th></th>\n",
       "      <th>Nanoparticle</th>\n",
       "      <th>Electronegativity</th>\n",
       "      <th>Diameter (nm)</th>\n",
       "      <th>Zeta_in_Water (mV)</th>\n",
       "      <th>Surface area (m2/g)</th>\n",
       "      <th>Concentration (ug/mL)</th>\n",
       "      <th>Molecular weight (g/mol)</th>\n",
       "      <th>Density (g/cm3)</th>\n",
       "      <th>Viability (%)</th>\n",
       "      <th>is_inorganic</th>\n",
       "      <th>...</th>\n",
       "      <th>Cell_Type</th>\n",
       "      <th>Cell_Morphology</th>\n",
       "      <th>Test_Indicator</th>\n",
       "      <th>Time (hr)</th>\n",
       "      <th>Test</th>\n",
       "      <th>Cell line (L)/primary cells (P)</th>\n",
       "      <th>Zeta_in_Medium (mV)</th>\n",
       "      <th>Cell_Tissue</th>\n",
       "      <th>Size_in_Medium (nm)</th>\n",
       "      <th>Size_in_Water (nm)</th>\n",
       "    </tr>\n",
       "  </thead>\n",
       "  <tbody>\n",
       "    <tr>\n",
       "      <th>0</th>\n",
       "      <td>CuO</td>\n",
       "      <td>1.9</td>\n",
       "      <td>313.8</td>\n",
       "      <td>7.6</td>\n",
       "      <td>74.2</td>\n",
       "      <td>200.0</td>\n",
       "      <td>79.545</td>\n",
       "      <td>5.94</td>\n",
       "      <td>9.1</td>\n",
       "      <td>1.0</td>\n",
       "      <td>...</td>\n",
       "      <td>NaN</td>\n",
       "      <td>NaN</td>\n",
       "      <td>NaN</td>\n",
       "      <td>NaN</td>\n",
       "      <td>NaN</td>\n",
       "      <td>NaN</td>\n",
       "      <td>NaN</td>\n",
       "      <td>NaN</td>\n",
       "      <td>NaN</td>\n",
       "      <td>NaN</td>\n",
       "    </tr>\n",
       "    <tr>\n",
       "      <th>1</th>\n",
       "      <td>ZnO</td>\n",
       "      <td>1.65</td>\n",
       "      <td>114.7</td>\n",
       "      <td>28.8</td>\n",
       "      <td>47.4</td>\n",
       "      <td>200.0</td>\n",
       "      <td>81.38</td>\n",
       "      <td>5.44</td>\n",
       "      <td>9.5</td>\n",
       "      <td>1.0</td>\n",
       "      <td>...</td>\n",
       "      <td>NaN</td>\n",
       "      <td>NaN</td>\n",
       "      <td>NaN</td>\n",
       "      <td>NaN</td>\n",
       "      <td>NaN</td>\n",
       "      <td>NaN</td>\n",
       "      <td>NaN</td>\n",
       "      <td>NaN</td>\n",
       "      <td>NaN</td>\n",
       "      <td>NaN</td>\n",
       "    </tr>\n",
       "    <tr>\n",
       "      <th>2</th>\n",
       "      <td>ZnO</td>\n",
       "      <td>1.65</td>\n",
       "      <td>114.7</td>\n",
       "      <td>28.8</td>\n",
       "      <td>47.4</td>\n",
       "      <td>100.0</td>\n",
       "      <td>81.38</td>\n",
       "      <td>5.44</td>\n",
       "      <td>10.2</td>\n",
       "      <td>1.0</td>\n",
       "      <td>...</td>\n",
       "      <td>NaN</td>\n",
       "      <td>NaN</td>\n",
       "      <td>NaN</td>\n",
       "      <td>NaN</td>\n",
       "      <td>NaN</td>\n",
       "      <td>NaN</td>\n",
       "      <td>NaN</td>\n",
       "      <td>NaN</td>\n",
       "      <td>NaN</td>\n",
       "      <td>NaN</td>\n",
       "    </tr>\n",
       "    <tr>\n",
       "      <th>3</th>\n",
       "      <td>ZnO</td>\n",
       "      <td>1.65</td>\n",
       "      <td>69.4</td>\n",
       "      <td>28.8</td>\n",
       "      <td>47.4</td>\n",
       "      <td>100.0</td>\n",
       "      <td>81.38</td>\n",
       "      <td>5.44</td>\n",
       "      <td>11.0</td>\n",
       "      <td>1.0</td>\n",
       "      <td>...</td>\n",
       "      <td>NaN</td>\n",
       "      <td>NaN</td>\n",
       "      <td>NaN</td>\n",
       "      <td>NaN</td>\n",
       "      <td>NaN</td>\n",
       "      <td>NaN</td>\n",
       "      <td>NaN</td>\n",
       "      <td>NaN</td>\n",
       "      <td>NaN</td>\n",
       "      <td>NaN</td>\n",
       "    </tr>\n",
       "    <tr>\n",
       "      <th>4</th>\n",
       "      <td>Mn2O3</td>\n",
       "      <td>1.55</td>\n",
       "      <td>291.7</td>\n",
       "      <td>-46.1</td>\n",
       "      <td>25.9</td>\n",
       "      <td>200.0</td>\n",
       "      <td>157.8743</td>\n",
       "      <td>4.59</td>\n",
       "      <td>11.3</td>\n",
       "      <td>1.0</td>\n",
       "      <td>...</td>\n",
       "      <td>NaN</td>\n",
       "      <td>NaN</td>\n",
       "      <td>NaN</td>\n",
       "      <td>NaN</td>\n",
       "      <td>NaN</td>\n",
       "      <td>NaN</td>\n",
       "      <td>NaN</td>\n",
       "      <td>NaN</td>\n",
       "      <td>NaN</td>\n",
       "      <td>NaN</td>\n",
       "    </tr>\n",
       "  </tbody>\n",
       "</table>\n",
       "<p>5 rows × 23 columns</p>\n",
       "</div>"
      ],
      "text/plain": [
       "  Nanoparticle Electronegativity  Diameter (nm)  Zeta_in_Water (mV)  \\\n",
       "0          CuO               1.9          313.8                 7.6   \n",
       "1          ZnO              1.65          114.7                28.8   \n",
       "2          ZnO              1.65          114.7                28.8   \n",
       "3          ZnO              1.65           69.4                28.8   \n",
       "4        Mn2O3              1.55          291.7               -46.1   \n",
       "\n",
       "   Surface area (m2/g)  Concentration (ug/mL) Molecular weight (g/mol)  \\\n",
       "0                 74.2                  200.0                   79.545   \n",
       "1                 47.4                  200.0                    81.38   \n",
       "2                 47.4                  100.0                    81.38   \n",
       "3                 47.4                  100.0                    81.38   \n",
       "4                 25.9                  200.0                 157.8743   \n",
       "\n",
       "   Density (g/cm3)  Viability (%)  is_inorganic  ... Cell_Type  \\\n",
       "0             5.94            9.1           1.0  ...       NaN   \n",
       "1             5.44            9.5           1.0  ...       NaN   \n",
       "2             5.44           10.2           1.0  ...       NaN   \n",
       "3             5.44           11.0           1.0  ...       NaN   \n",
       "4             4.59           11.3           1.0  ...       NaN   \n",
       "\n",
       "  Cell_Morphology Test_Indicator Time (hr) Test  \\\n",
       "0             NaN            NaN       NaN  NaN   \n",
       "1             NaN            NaN       NaN  NaN   \n",
       "2             NaN            NaN       NaN  NaN   \n",
       "3             NaN            NaN       NaN  NaN   \n",
       "4             NaN            NaN       NaN  NaN   \n",
       "\n",
       "  Cell line (L)/primary cells (P)  Zeta_in_Medium (mV) Cell_Tissue  \\\n",
       "0                             NaN                  NaN         NaN   \n",
       "1                             NaN                  NaN         NaN   \n",
       "2                             NaN                  NaN         NaN   \n",
       "3                             NaN                  NaN         NaN   \n",
       "4                             NaN                  NaN         NaN   \n",
       "\n",
       "  Size_in_Medium (nm)  Size_in_Water (nm)  \n",
       "0                 NaN                 NaN  \n",
       "1                 NaN                 NaN  \n",
       "2                 NaN                 NaN  \n",
       "3                 NaN                 NaN  \n",
       "4                 NaN                 NaN  \n",
       "\n",
       "[5 rows x 23 columns]"
      ]
     },
     "execution_count": 37,
     "metadata": {},
     "output_type": "execute_result"
    }
   ],
   "source": [
    "# Соединение\n",
    "db = pd.concat([db123, db45], axis=0)\n",
    "db.reset_index(drop=True, inplace=True)\n",
    "db.head()"
   ]
  },
  {
   "cell_type": "code",
   "execution_count": 38,
   "metadata": {},
   "outputs": [
    {
     "data": {
      "text/plain": [
       "Nanoparticle                          0\n",
       "Electronegativity                    18\n",
       "Diameter (nm)                         0\n",
       "Zeta_in_Water (mV)                    0\n",
       "Surface area (m2/g)                7007\n",
       "Concentration (ug/mL)                 0\n",
       "Molecular weight (g/mol)             18\n",
       "Density (g/cm3)                    8649\n",
       "Viability (%)                         0\n",
       "is_inorganic                          0\n",
       "Cell_Source                           0\n",
       "Cell_Age                           2136\n",
       "coat                               2136\n",
       "Cell_Type                          2136\n",
       "Cell_Morphology                    2136\n",
       "Test_Indicator                     2136\n",
       "Time (hr)                          1562\n",
       "Test                               2136\n",
       "Cell line (L)/primary cells (P)    2136\n",
       "Zeta_in_Medium (mV)                5032\n",
       "Cell_Tissue                        1562\n",
       "Size_in_Medium (nm)                5032\n",
       "Size_in_Water (nm)                 5032\n",
       "dtype: int64"
      ]
     },
     "execution_count": 38,
     "metadata": {},
     "output_type": "execute_result"
    }
   ],
   "source": [
    "db.isna().sum()"
   ]
  },
  {
   "cell_type": "code",
   "execution_count": 39,
   "metadata": {},
   "outputs": [
    {
     "data": {
      "text/plain": [
       "0.3938027517632096"
      ]
     },
     "execution_count": 39,
     "metadata": {},
     "output_type": "execute_result"
    }
   ],
   "source": [
    "# Заполнение столбца плотности\n",
    "fill_na_with_similar(db, 'Density (g/cm3)', 'Nanoparticle')"
   ]
  },
  {
   "cell_type": "code",
   "execution_count": 40,
   "metadata": {},
   "outputs": [
    {
     "data": {
      "text/plain": [
       "31"
      ]
     },
     "execution_count": 40,
     "metadata": {},
     "output_type": "execute_result"
    }
   ],
   "source": [
    "import json\n",
    "\n",
    "with open('densities.json', 'r') as f:\n",
    "    densities = json.load(f)\n",
    "\n",
    "len(densities)"
   ]
  },
  {
   "cell_type": "code",
   "execution_count": 41,
   "metadata": {},
   "outputs": [
    {
     "data": {
      "text/plain": [
       "0.13245105545225855"
      ]
     },
     "execution_count": 41,
     "metadata": {},
     "output_type": "execute_result"
    }
   ],
   "source": [
    "dens_vals = []\n",
    "ids = np.where(db['Density (g/cm3)'].isna())[0]\n",
    "\n",
    "for i in ids:\n",
    "    formula = db['Nanoparticle'][i]\n",
    "    if formula in densities:\n",
    "        dens_vals.append(densities[formula])\n",
    "    else:\n",
    "        dens_vals.append(np.nan)\n",
    "\n",
    "db.loc[ids, 'Density (g/cm3)'] = dens_vals\n",
    "db['Density (g/cm3)'].isna().sum() / len(db)"
   ]
  },
  {
   "cell_type": "code",
   "execution_count": 42,
   "metadata": {},
   "outputs": [],
   "source": [
    "fill_with_mode(db['Density (g/cm3)'])"
   ]
  },
  {
   "cell_type": "code",
   "execution_count": 43,
   "metadata": {},
   "outputs": [
    {
     "data": {
      "text/plain": [
       "Index(['Nanoparticle', 'Electronegativity', 'Diameter (nm)',\n",
       "       'Zeta_in_Water (mV)', 'Surface area (m2/g)', 'Concentration (ug/mL)',\n",
       "       'Molecular weight (g/mol)', 'Density (g/cm3)', 'Viability (%)',\n",
       "       'is_inorganic', 'Cell_Source', 'Cell_Age', 'coat', 'Cell_Type',\n",
       "       'Cell_Morphology', 'Test_Indicator', 'Time (hr)', 'Test',\n",
       "       'Cell line (L)/primary cells (P)', 'Zeta_in_Medium (mV)', 'Cell_Tissue',\n",
       "       'Size_in_Medium (nm)', 'Size_in_Water (nm)'],\n",
       "      dtype='object')"
      ]
     },
     "execution_count": 43,
     "metadata": {},
     "output_type": "execute_result"
    }
   ],
   "source": [
    "db.columns"
   ]
  },
  {
   "cell_type": "code",
   "execution_count": 44,
   "metadata": {},
   "outputs": [],
   "source": [
    "# Удаление ненужных колонок и заполнение NaN значений\n",
    "db.drop('Surface area (m2/g)', axis=1, inplace=True)\n",
    "fill_with_mode(db['Electronegativity'])\n",
    "fill_with_mode(db['Molecular weight (g/mol)'])\n",
    "fill_with_mode(db['Time (hr)'])"
   ]
  },
  {
   "cell_type": "code",
   "execution_count": 45,
   "metadata": {},
   "outputs": [
    {
     "name": "stdout",
     "output_type": "stream",
     "text": [
      "Size_in_Water (nm) 0.7792130365659777\n",
      "Size_in_Medium (nm) 0.7792130365659777\n",
      "Cell line (L)/primary cells (P) 0.7443820224719101\n",
      "Zeta_in_Medium (mV) 0.7792130365659777\n"
     ]
    }
   ],
   "source": [
    "cols = ['Size_in_Water (nm)', 'Size_in_Medium (nm)',\n",
    "    'Cell line (L)/primary cells (P)', 'Zeta_in_Medium (mV)']\n",
    "\n",
    "for col in cols:\n",
    "    score = fill_na_with_similar(db, col, 'Nanoparticle')\n",
    "    print(col, score)\n",
    "    fill_with_mode(db[col])"
   ]
  },
  {
   "cell_type": "code",
   "execution_count": 46,
   "metadata": {},
   "outputs": [
    {
     "data": {
      "text/plain": [
       "Nanoparticle                          0\n",
       "Electronegativity                     0\n",
       "Diameter (nm)                         0\n",
       "Zeta_in_Water (mV)                    0\n",
       "Concentration (ug/mL)                 0\n",
       "Molecular weight (g/mol)              0\n",
       "Density (g/cm3)                       0\n",
       "Viability (%)                         0\n",
       "is_inorganic                          0\n",
       "Cell_Source                           0\n",
       "Cell_Age                           2136\n",
       "coat                               2136\n",
       "Cell_Type                          2136\n",
       "Cell_Morphology                    2136\n",
       "Test_Indicator                     2136\n",
       "Time (hr)                             0\n",
       "Test                               2136\n",
       "Cell line (L)/primary cells (P)       0\n",
       "Zeta_in_Medium (mV)                   0\n",
       "Cell_Tissue                        1562\n",
       "Size_in_Medium (nm)                   0\n",
       "Size_in_Water (nm)                    0\n",
       "dtype: int64"
      ]
     },
     "execution_count": 46,
     "metadata": {},
     "output_type": "execute_result"
    }
   ],
   "source": [
    "db.isna().sum()"
   ]
  },
  {
   "cell_type": "code",
   "execution_count": 47,
   "metadata": {},
   "outputs": [
    {
     "data": {
      "text/plain": [
       "['Nanoparticle',\n",
       " 'Electronegativity',\n",
       " 'Molecular weight (g/mol)',\n",
       " 'Cell_Source',\n",
       " 'Cell_Age',\n",
       " 'coat',\n",
       " 'Cell_Type',\n",
       " 'Cell_Morphology',\n",
       " 'Test_Indicator',\n",
       " 'Test',\n",
       " 'Cell line (L)/primary cells (P)',\n",
       " 'Cell_Tissue']"
      ]
     },
     "execution_count": 47,
     "metadata": {},
     "output_type": "execute_result"
    }
   ],
   "source": [
    "# Просмотр всех колонок с категориальным типом данных\n",
    "[col for col in db.columns if db[col].dtype == 'object']"
   ]
  },
  {
   "cell_type": "code",
   "execution_count": 48,
   "metadata": {},
   "outputs": [
    {
     "data": {
      "text/plain": [
       "array(['CuO', 'ZnO', 'Mn2O3', 'CoO', 'CeO2', 'Fe2O3', 'Gd2O3', 'HfO2',\n",
       "       'In2O3', 'La2O3', 'NiO', 'Sb2O3', 'SiO2', 'Al2O3', 'Se', 'CuS',\n",
       "       'TiO2', 'Ti', 'Cr', 'Co', 'Co3O4', 'CdO', 'MnO', 'Bi', 'Mo', 'Pt',\n",
       "       'Hydroxyapatite', 'Cu2O', 'MgO', 'QDs', 'Au', 'Ag', 'Eudragit RL',\n",
       "       'Dendrimer', 'PLGA', 'Polystyrene', 'Liposomes', 'SLN',\n",
       "       'Carbon Nanotubes', 'Carbon NP', 'Chitosan', 'QD', 'Alginate',\n",
       "       'PTFE-PMMA', 'Carbon NT', 'HAP', 'Ni', 'EudragitRL', 'Carbon',\n",
       "       'ZrO2', 'C60', 'C70', 'Diamond', 'Graphite', 'Cu', 'Bi2O3',\n",
       "       'Fe3O4'], dtype=object)"
      ]
     },
     "execution_count": 48,
     "metadata": {},
     "output_type": "execute_result"
    }
   ],
   "source": [
    "db['Nanoparticle'].unique()"
   ]
  },
  {
   "cell_type": "code",
   "execution_count": 49,
   "metadata": {},
   "outputs": [],
   "source": [
    "# Исправление того, что разные названия\n",
    "# обозначают одно и то же\n",
    "db['Nanoparticle'].replace({\n",
    "    'Carbon Nanotubes': 'Carbon NT'\n",
    "}, inplace=True)"
   ]
  },
  {
   "cell_type": "code",
   "execution_count": 50,
   "metadata": {},
   "outputs": [],
   "source": [
    "# Удаление \"глупостей\"\n",
    "for col in ['Electronegativity', 'Molecular weight (g/mol)']:\n",
    "    for i, el in enumerate(db[col]):\n",
    "        if type(el) == str:\n",
    "            db.loc[i, col] = float(el.replace(',', '.'))"
   ]
  },
  {
   "cell_type": "code",
   "execution_count": 51,
   "metadata": {},
   "outputs": [
    {
     "data": {
      "text/plain": [
       "array(['A', 'H'], dtype=object)"
      ]
     },
     "execution_count": 51,
     "metadata": {},
     "output_type": "execute_result"
    }
   ],
   "source": [
    "db['Cell_Source'].unique()"
   ]
  },
  {
   "cell_type": "code",
   "execution_count": 52,
   "metadata": {},
   "outputs": [
    {
     "data": {
      "text/plain": [
       "array([nan, 'MTT', 'XTT', 'NR', 'LDH', 'MTS', 'Live/Dead', 'WST\\xad1',\n",
       "       'CellTiter\\xadBlue', 'CellTiter\\xadGlo', 'CellTiter\\xadBlue ',\n",
       "       'ATPLite', 'Alamar Blue', 'Alamar blue', 'ATP', 'WST\\xad8',\n",
       "       'Resazurin', 'ApoTox\\xadGlo™ Triplex', 'CytoTox\\xadOne™',\n",
       "       'Vialight', 'Promegas CTB Assay',\n",
       "       'Modified MTT assay (MTT\\xadformazan ppt dissolving by ethanol)',\n",
       "       'Modified MTT assay (MTT\\xadformazan ppt dissolving by isopropanol/HCl)',\n",
       "       'Live/Dead ', 'CellTiterBlue', 'NRU', 'AlamarBlue', 'CCK-8', 'CVS',\n",
       "       'WST-1', 'CellTiterGlo', 'CytoTox-Glo', 'EZ4U', 'CoulterCounter'],\n",
       "      dtype=object)"
      ]
     },
     "execution_count": 52,
     "metadata": {},
     "output_type": "execute_result"
    }
   ],
   "source": [
    "db['Test'].unique()"
   ]
  },
  {
   "cell_type": "code",
   "execution_count": 53,
   "metadata": {},
   "outputs": [],
   "source": [
    "db['Test'].replace({\n",
    "    'Live/Dead ': 'Live/Dead',\n",
    "    'Alamar blue': 'Alamar Blue',\n",
    "    'CellTiter\\\\xadBlue ': 'CellTiter\\\\xadBlue'\n",
    "}, inplace=True)"
   ]
  },
  {
   "cell_type": "code",
   "execution_count": 54,
   "metadata": {},
   "outputs": [
    {
     "data": {
      "text/plain": [
       "array([nan, 'tetrazolium salt', 'toluylene red', 'LDH activity assay kit',\n",
       "       'Calcein AM, Ethidium homodimer-1', 'Sytox Red', 'Annexin V',\n",
       "       'propidium iodide', 'trypan blue', 'Alamar blue', 'luciferase',\n",
       "       'propidium iodide, Annexin V', 'Caspase-Glo® 3/7 Reagent',\n",
       "       'Trypan Blue', 'Propidium iodide', 'calcein AM',\n",
       "       'Hoechst 33358, propidium iodide', 'Calcein AM, propidium iodide',\n",
       "       'TetrazoliumSalt', 'AlamarBlue', 'LDHrelease', 'PropidiumIodide',\n",
       "       'CalceinAM', 'NeutralRed', 'TrypanBlue', 'CrystalViolet',\n",
       "       'LuciferaseEnzyme', 'Dead-Cell-Protease', 'Impedance'],\n",
       "      dtype=object)"
      ]
     },
     "execution_count": 54,
     "metadata": {},
     "output_type": "execute_result"
    }
   ],
   "source": [
    "db['Test_Indicator'].unique()"
   ]
  },
  {
   "cell_type": "code",
   "execution_count": 55,
   "metadata": {},
   "outputs": [],
   "source": [
    "db['Test_Indicator'].replace({\n",
    "    'Trypan Blue': 'trypan blue',\n",
    "    'TrypanBlue': 'trypan blue',\n",
    "    'TetrazoliumSalt': 'tetrazolium salt',\n",
    "    'Propidium iodide': 'propidium iodide',\n",
    "    'PropidiumIodide': 'propidium iodide',\n",
    "    'CalceinAM': 'calcein AM',\n",
    "    'AlamarBlue': 'Alamar blue'\n",
    "}, inplace=True)"
   ]
  },
  {
   "cell_type": "code",
   "execution_count": 56,
   "metadata": {},
   "outputs": [],
   "source": [
    "db['Cell_Tissue'] = db['Cell_Tissue'].apply(lambda x: x if type(x) != str else x.lower())"
   ]
  },
  {
   "cell_type": "code",
   "execution_count": 57,
   "metadata": {},
   "outputs": [
    {
     "data": {
      "text/plain": [
       "array([nan, 'areolar tissue', 'prostate', 'lung', 'heart', 'bone marrow',\n",
       "       'brain', 'kidney', 'skin', 'blood', 'colon', 'ovary', 'cervix',\n",
       "       'embryo', 'liver', 'pituitary gland', 'breast', 'aorta', 'bone',\n",
       "       'foreskin', 'adrenal gland', 'umbilical cord', 'stomach', 'testis',\n",
       "       'axillary lymph node', 'urinary bladder', 'ascites',\n",
       "       'umbilical vein', 'cerebellum', 'cortex', 'bonemarrow', 'cornea',\n",
       "       'peritoneal cavity', 'subcutaneousconnectivetissue',\n",
       "       'respiratorytract', 'retina', 'urinarybladder', 'fatpad', 'amnion',\n",
       "       'teeth', 'gingiva', 'connective tissue', 'mesothelium', 'nose'],\n",
       "      dtype=object)"
      ]
     },
     "execution_count": 57,
     "metadata": {},
     "output_type": "execute_result"
    }
   ],
   "source": [
    "db['Cell_Tissue'].unique()"
   ]
  },
  {
   "cell_type": "code",
   "execution_count": 58,
   "metadata": {},
   "outputs": [],
   "source": [
    "db['Cell_Tissue'].replace({\n",
    "    'bonemarrow': 'bone marrow'\n",
    "}, inplace=True)"
   ]
  },
  {
   "cell_type": "code",
   "execution_count": 59,
   "metadata": {},
   "outputs": [
    {
     "data": {
      "text/plain": [
       "array([nan, 'A', 'E', 'Adult', 'Embryonic', 'Fetus'], dtype=object)"
      ]
     },
     "execution_count": 59,
     "metadata": {},
     "output_type": "execute_result"
    }
   ],
   "source": [
    "db['Cell_Age'].unique()"
   ]
  },
  {
   "cell_type": "code",
   "execution_count": 60,
   "metadata": {},
   "outputs": [],
   "source": [
    "db['Cell_Age'].replace({\n",
    "    'Adult': 'A',\n",
    "    'Embryonic': 'E',\n",
    "    'Fetus': 'E'\n",
    "}, inplace=True)"
   ]
  },
  {
   "cell_type": "code",
   "execution_count": 61,
   "metadata": {},
   "outputs": [
    {
     "data": {
      "text/plain": [
       "array([nan, 'nothing', 'l-cysteine l-lysine l-lysine', 'Dextran', 'PEI',\n",
       "       'PEG to the PEI', 'PEG', 'PEG-NH2', 'BSA', 'alginate', 'COOH',\n",
       "       'NH2', 'dimercaptosuccinic',\n",
       "       'folic acid with intermediate organic (PEG) coating',\n",
       "       'folic acid with intermediate inorganic (silica) coating',\n",
       "       'Digestive enzymes', 'simethicone then esters on top',\n",
       "       'alumina-simethicone', 'silica', 'PVP', 'Folic acid',\n",
       "       'D-penicillamine (NH2/COOH)', '3-mercaptopropionic acid (COOH)',\n",
       "       'cysteamine (NH2)', 'cysteamine', 'Zn then cysteamine', 'SGF',\n",
       "       'TGA-gelatine', 'TGA', 'CTAB', 'Phosphonate', 'PEG-OCH3',\n",
       "       'PEG-COOH', 'Citrate and PVP', 'Citrate', 'Starch', 'Gum Arabic',\n",
       "       'Star anise', 'Sodium borohydride', 'Chitosan', 'PVA',\n",
       "       'Poloxamer 188 (Pluronic F68)', 'metal catalyst residues',\n",
       "       'Tween 80', 'COONa', 'SO3Na', 'Hyaluronic acid ',\n",
       "       'Hyaluronic acid', 'Ph', 'None', 'DPA', 'MPA', 'CyA', 'Silica',\n",
       "       'CKK', 'Ac', 'C12', 'OH', 'OS', 'SC', 'Poloxamer', 'PEA', 'PEG-FA',\n",
       "       'Silica-FA', 'SodiumAlginate', 'Liposome', 'OleicAcid',\n",
       "       'Silica-NH2', 'DMSA', 'MSA', 'CYS', 'GSH', 'PAMAM', 'Urea', 'DPPC',\n",
       "       'DHLA', 'FA', 'DDAB', 'Tween80', 'Citrate-Lactose',\n",
       "       'Citrate-Oligonucleotide', 'CH3', 'AscorbicAcid'], dtype=object)"
      ]
     },
     "execution_count": 61,
     "metadata": {},
     "output_type": "execute_result"
    }
   ],
   "source": [
    "db['coat'].unique()"
   ]
  },
  {
   "cell_type": "code",
   "execution_count": 62,
   "metadata": {},
   "outputs": [],
   "source": [
    "db['coat'].replace({\n",
    "    'None': 'nothing'\n",
    "}, inplace=True)"
   ]
  },
  {
   "cell_type": "code",
   "execution_count": 63,
   "metadata": {},
   "outputs": [
    {
     "data": {
      "text/plain": [
       "array(['L', 'P'], dtype=object)"
      ]
     },
     "execution_count": 63,
     "metadata": {},
     "output_type": "execute_result"
    }
   ],
   "source": [
    "db['Cell line (L)/primary cells (P)'].unique()"
   ]
  },
  {
   "cell_type": "code",
   "execution_count": 64,
   "metadata": {},
   "outputs": [
    {
     "data": {
      "text/plain": [
       "array([nan, 'Fibroblast', 'Epithelial', 'Endothelial',\n",
       "       'Monocyte/Macrophage', 'Lymphoblast', 'Monocyte',\n",
       "       'Endothelial-like', 'Irregular', 'Spindle', 'Neuronal',\n",
       "       'Macrophage', 'Mesenchymal', 'Keratinocyte', 'Polygonal',\n",
       "       'Epithelial-like', 'Osteoblast', 'Mixed', 'MulticellularClusters'],\n",
       "      dtype=object)"
      ]
     },
     "execution_count": 64,
     "metadata": {},
     "output_type": "execute_result"
    }
   ],
   "source": [
    "db['Cell_Morphology'].unique()"
   ]
  },
  {
   "cell_type": "code",
   "execution_count": 65,
   "metadata": {},
   "outputs": [
    {
     "data": {
      "text/plain": [
       "array([nan, 'L929', 'PC3', 'A549', 'HCMEC', 'SH\\xadSY5Y', 'H4',\n",
       "       'HEK\\xad293', 'A431', 'RAW 264.7', 'Caco\\xad2', 'Fibroblasts',\n",
       "       'CD3+ T cells', 'CD4+T cells', 'B cells', 'NK cells', 'Monocytes',\n",
       "       'T cells (all types)', 'Naive T\\xadcell', 'Memory T\\xadcell',\n",
       "       'Lymphocytes', 'SKOV\\xad3', 'Macrophages', 'HMEC\\xad1', 'HeLa',\n",
       "       'MEF', 'HepG2', 'GH3', 'MCF7', 'CDBgeo', 'TD', 'V14', 'PAECs',\n",
       "       'T98G', 'MG\\xad63', 'hTERT\\xadBJ1', 'PC12', 'VERO', 'MDCK',\n",
       "       'CHO\\xadK1', 'IP15', 'LLC\\xadPK1', 'HAEC', 'HUVEC', 'AGS',\n",
       "       'BEAS\\xad2B', 'Neuro\\xad2a', 'C18–4', 'IMR90', 'HMM', 'L\\xad02',\n",
       "       'PMA activated THP\\xad1', 'SVEC4\\xad10', 'SK\\xadBR\\xad3',\n",
       "       'primary tissue Macrophage', 'primary alveolar Macrophage',\n",
       "       'primary alveolar Epithelial cells',\n",
       "       'primary alveolar epithelial cells', 'NCIH441', 'CHO22',\n",
       "       'MDA\\xadMB\\xad231', 'C17.2', 'hMSCs', 'HaCaT\\xa0', 'LoVo', 'KEC',\n",
       "       'ECV304', 'THP\\xad1', 'NR8383', 'SW480', 'J774', 'Clone\\xad9',\n",
       "       'SK\\xadMel\\xad28', 'COS\\xad1', 'Calu\\xad3', 'MDBK', 'Colo\\xad205',\n",
       "       'HEp\\xad2', 'HDF', 'HEK', 'UM\\xadUC\\xad3', 'EJ28', 'RAW264.7',\n",
       "       'RAV264.7', 'SVEC4-10', 'J774A.1', 'MG-63', 'BEC', 'ASM', 'Caco-2',\n",
       "       'Neuron', 'HaCat', 'hNPC', 'Colo_205', 'Calu-3', 'SHSY5Y', 'THP-1',\n",
       "       'Lymphocyte', 'SKOV-3', 'NIH3T3', 'PK-15', 'HEK293', 'MCF-7',\n",
       "       'SIRC', 'NHDF', 'HT29', 'Hepatocytes', 'HK-2', 'WA09', 'H1299',\n",
       "       'hFOB1.19', '143B', 'PBMC', 'A2780', '16HBE', 'BALB/c3T3', 'EBF',\n",
       "       'hMSC', 'L-02', 'neuro2A', '3T3-L1', 'Jurkat', '95D', 'Ana-1',\n",
       "       'MBMC', 'PCLS', 'SV-80', 'Y-79', 'K562', 'UM-UC-3', 'CHO-K1', 'BJ',\n",
       "       'HFL1', 'L-132', 'CCL-110', 'RFPEC', 'MDCK-II', 'HCT-116', 'WISH',\n",
       "       'HEBC3-KT', 'C6', 'V79', 'mDF', 'hPDLF', 'U87', 'C3A', 'HEp-2',\n",
       "       'TT1', 'AT2', 'MC3T3-E1', 'HGF', 'HT-1080', 'NRK-52E', 'BEAS-2B'],\n",
       "      dtype=object)"
      ]
     },
     "execution_count": 65,
     "metadata": {},
     "output_type": "execute_result"
    }
   ],
   "source": [
    "db['Cell_Type'].unique()"
   ]
  },
  {
   "cell_type": "code",
   "execution_count": 66,
   "metadata": {},
   "outputs": [],
   "source": [
    "db['Cell_Type'].replace({\n",
    "    'primary alveolar epithelial cells': 'primary alveolar Epithelial cells',\n",
    "}, inplace=True)"
   ]
  },
  {
   "cell_type": "code",
   "execution_count": 67,
   "metadata": {},
   "outputs": [
    {
     "data": {
      "text/plain": [
       "Nanoparticle                          0\n",
       "Electronegativity                     0\n",
       "Diameter (nm)                         0\n",
       "Zeta_in_Water (mV)                    0\n",
       "Concentration (ug/mL)                 0\n",
       "Molecular weight (g/mol)              0\n",
       "Density (g/cm3)                       0\n",
       "Viability (%)                         0\n",
       "is_inorganic                          0\n",
       "Cell_Source                           0\n",
       "Cell_Age                           2136\n",
       "coat                               2136\n",
       "Cell_Type                          2136\n",
       "Cell_Morphology                    2136\n",
       "Test_Indicator                     2136\n",
       "Time (hr)                             0\n",
       "Test                               2136\n",
       "Cell line (L)/primary cells (P)       0\n",
       "Zeta_in_Medium (mV)                   0\n",
       "Cell_Tissue                        1562\n",
       "Size_in_Medium (nm)                   0\n",
       "Size_in_Water (nm)                    0\n",
       "dtype: int64"
      ]
     },
     "execution_count": 67,
     "metadata": {},
     "output_type": "execute_result"
    }
   ],
   "source": [
    "db.isna().sum()"
   ]
  },
  {
   "cell_type": "code",
   "execution_count": 68,
   "metadata": {},
   "outputs": [
    {
     "name": "stdout",
     "output_type": "stream",
     "text": [
      "Test 0.7443820224719101\n",
      "Test_Indicator 0.7443820224719101\n",
      "Cell_Tissue 0.6837387964148528\n",
      "Cell_Type 0.7443820224719101\n",
      "Cell_Morphology 0.7443820224719101\n",
      "Cell_Age 0.7443820224719101\n",
      "coat 0.7443820224719101\n"
     ]
    }
   ],
   "source": [
    "# Заполнение недостающих данных\n",
    "cols = ['Test', 'Test_Indicator', 'Cell_Tissue',\n",
    "    'Cell_Type', 'Cell_Morphology', 'Cell_Age', 'coat']\n",
    "\n",
    "for col in cols:\n",
    "    score = fill_na_with_similar(db, col, 'Nanoparticle')\n",
    "    print(col, score)\n",
    "    fill_with_mode(db[col])"
   ]
  },
  {
   "cell_type": "code",
   "execution_count": 69,
   "metadata": {},
   "outputs": [
    {
     "data": {
      "text/plain": [
       "False"
      ]
     },
     "execution_count": 69,
     "metadata": {},
     "output_type": "execute_result"
    }
   ],
   "source": [
    "# Проверка\n",
    "db.isna().any().any()"
   ]
  },
  {
   "cell_type": "code",
   "execution_count": 70,
   "metadata": {},
   "outputs": [],
   "source": [
    "# Сохранение таблицы\n",
    "db.to_excel('connected.xlsx', index=False)"
   ]
  }
 ],
 "metadata": {
  "kernelspec": {
   "display_name": "Python 3.9.2 64-bit",
   "language": "python",
   "name": "python3"
  },
  "language_info": {
   "codemirror_mode": {
    "name": "ipython",
    "version": 3
   },
   "file_extension": ".py",
   "mimetype": "text/x-python",
   "name": "python",
   "nbconvert_exporter": "python",
   "pygments_lexer": "ipython3",
   "version": "3.9.2"
  },
  "orig_nbformat": 4,
  "vscode": {
   "interpreter": {
    "hash": "865d8b2eb28e274047ba64063dfb6a2aabf0dfec4905d304d7a76618dae6fdd4"
   }
  }
 },
 "nbformat": 4,
 "nbformat_minor": 2
}
