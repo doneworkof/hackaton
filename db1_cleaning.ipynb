{
 "cells": [
  {
   "cell_type": "code",
   "execution_count": 4,
   "metadata": {},
   "outputs": [],
   "source": [
    "# Загрузка библиотек\n",
    "import pandas as pd\n",
    "import numpy as np\n",
    "\n",
    "from funcs import fill_na_with_similar"
   ]
  },
  {
   "cell_type": "code",
   "execution_count": 5,
   "metadata": {},
   "outputs": [
    {
     "data": {
      "text/html": [
       "<div>\n",
       "<style scoped>\n",
       "    .dataframe tbody tr th:only-of-type {\n",
       "        vertical-align: middle;\n",
       "    }\n",
       "\n",
       "    .dataframe tbody tr th {\n",
       "        vertical-align: top;\n",
       "    }\n",
       "\n",
       "    .dataframe thead th {\n",
       "        text-align: right;\n",
       "    }\n",
       "</style>\n",
       "<table border=\"1\" class=\"dataframe\">\n",
       "  <thead>\n",
       "    <tr style=\"text-align: right;\">\n",
       "      <th></th>\n",
       "      <th>Material type</th>\n",
       "      <th>Elements</th>\n",
       "      <th>Electronegativity</th>\n",
       "      <th>Ionic radius</th>\n",
       "      <th>Core size (nm)</th>\n",
       "      <th>Hydro size (nm)</th>\n",
       "      <th>Surface charge (mV)</th>\n",
       "      <th>Surface area (m2/g)</th>\n",
       "      <th>Cell type</th>\n",
       "      <th>Exposure dose (ug/mL)</th>\n",
       "      <th>...</th>\n",
       "      <th>Molecular weight (g/mol)</th>\n",
       "      <th>Topological polar surface area (Å²)</th>\n",
       "      <th>a (Å)</th>\n",
       "      <th>b (Å)</th>\n",
       "      <th>c (Å)</th>\n",
       "      <th>α (°)</th>\n",
       "      <th>β (°)</th>\n",
       "      <th>γ (°)</th>\n",
       "      <th>Density (g/cm3)</th>\n",
       "      <th>Viability (%)</th>\n",
       "    </tr>\n",
       "  </thead>\n",
       "  <tbody>\n",
       "    <tr>\n",
       "      <th>0</th>\n",
       "      <td>CuO</td>\n",
       "      <td>Cu</td>\n",
       "      <td>1.90</td>\n",
       "      <td>73.0</td>\n",
       "      <td>12.8</td>\n",
       "      <td>313.8</td>\n",
       "      <td>7.6</td>\n",
       "      <td>74.2</td>\n",
       "      <td>1</td>\n",
       "      <td>200.0</td>\n",
       "      <td>...</td>\n",
       "      <td>79.5450</td>\n",
       "      <td>17.1</td>\n",
       "      <td>4.685</td>\n",
       "      <td>3.423</td>\n",
       "      <td>5.132</td>\n",
       "      <td>90</td>\n",
       "      <td>99.5</td>\n",
       "      <td>90</td>\n",
       "      <td>5.94</td>\n",
       "      <td>9.1</td>\n",
       "    </tr>\n",
       "    <tr>\n",
       "      <th>1</th>\n",
       "      <td>ZnO</td>\n",
       "      <td>Zn</td>\n",
       "      <td>1.65</td>\n",
       "      <td>74.0</td>\n",
       "      <td>22.6</td>\n",
       "      <td>114.7</td>\n",
       "      <td>28.8</td>\n",
       "      <td>47.4</td>\n",
       "      <td>0</td>\n",
       "      <td>200.0</td>\n",
       "      <td>...</td>\n",
       "      <td>81.3800</td>\n",
       "      <td>17.1</td>\n",
       "      <td>3.249</td>\n",
       "      <td>3.249</td>\n",
       "      <td>5.206</td>\n",
       "      <td>90</td>\n",
       "      <td>90.0</td>\n",
       "      <td>120</td>\n",
       "      <td>5.44</td>\n",
       "      <td>9.5</td>\n",
       "    </tr>\n",
       "    <tr>\n",
       "      <th>2</th>\n",
       "      <td>ZnO</td>\n",
       "      <td>Zn</td>\n",
       "      <td>1.65</td>\n",
       "      <td>74.0</td>\n",
       "      <td>22.6</td>\n",
       "      <td>114.7</td>\n",
       "      <td>28.8</td>\n",
       "      <td>47.4</td>\n",
       "      <td>0</td>\n",
       "      <td>100.0</td>\n",
       "      <td>...</td>\n",
       "      <td>81.3800</td>\n",
       "      <td>17.1</td>\n",
       "      <td>3.249</td>\n",
       "      <td>3.249</td>\n",
       "      <td>5.206</td>\n",
       "      <td>90</td>\n",
       "      <td>90.0</td>\n",
       "      <td>120</td>\n",
       "      <td>5.44</td>\n",
       "      <td>10.2</td>\n",
       "    </tr>\n",
       "    <tr>\n",
       "      <th>3</th>\n",
       "      <td>ZnO</td>\n",
       "      <td>Zn</td>\n",
       "      <td>1.65</td>\n",
       "      <td>74.0</td>\n",
       "      <td>22.6</td>\n",
       "      <td>69.4</td>\n",
       "      <td>28.8</td>\n",
       "      <td>47.4</td>\n",
       "      <td>1</td>\n",
       "      <td>100.0</td>\n",
       "      <td>...</td>\n",
       "      <td>81.3800</td>\n",
       "      <td>17.1</td>\n",
       "      <td>3.249</td>\n",
       "      <td>3.249</td>\n",
       "      <td>5.206</td>\n",
       "      <td>90</td>\n",
       "      <td>90.0</td>\n",
       "      <td>120</td>\n",
       "      <td>5.44</td>\n",
       "      <td>11.0</td>\n",
       "    </tr>\n",
       "    <tr>\n",
       "      <th>4</th>\n",
       "      <td>Mn2O3</td>\n",
       "      <td>Mn</td>\n",
       "      <td>1.55</td>\n",
       "      <td>58.0</td>\n",
       "      <td>51.5</td>\n",
       "      <td>291.7</td>\n",
       "      <td>-46.1</td>\n",
       "      <td>25.9</td>\n",
       "      <td>1</td>\n",
       "      <td>200.0</td>\n",
       "      <td>...</td>\n",
       "      <td>157.8743</td>\n",
       "      <td>43.4</td>\n",
       "      <td>5.752</td>\n",
       "      <td>5.752</td>\n",
       "      <td>9.426</td>\n",
       "      <td>90</td>\n",
       "      <td>90.0</td>\n",
       "      <td>90</td>\n",
       "      <td>4.59</td>\n",
       "      <td>11.3</td>\n",
       "    </tr>\n",
       "  </tbody>\n",
       "</table>\n",
       "<p>5 rows × 21 columns</p>\n",
       "</div>"
      ],
      "text/plain": [
       "  Material type Elements  Electronegativity  Ionic radius  Core size (nm)  \\\n",
       "0           CuO       Cu               1.90          73.0            12.8   \n",
       "1           ZnO       Zn               1.65          74.0            22.6   \n",
       "2           ZnO       Zn               1.65          74.0            22.6   \n",
       "3           ZnO       Zn               1.65          74.0            22.6   \n",
       "4         Mn2O3       Mn               1.55          58.0            51.5   \n",
       "\n",
       "   Hydro size (nm)  Surface charge (mV)  Surface area (m2/g)  Cell type  \\\n",
       "0            313.8                  7.6                 74.2          1   \n",
       "1            114.7                 28.8                 47.4          0   \n",
       "2            114.7                 28.8                 47.4          0   \n",
       "3             69.4                 28.8                 47.4          1   \n",
       "4            291.7                -46.1                 25.9          1   \n",
       "\n",
       "   Exposure dose (ug/mL)  ...  Molecular weight (g/mol)  \\\n",
       "0                  200.0  ...                   79.5450   \n",
       "1                  200.0  ...                   81.3800   \n",
       "2                  100.0  ...                   81.3800   \n",
       "3                  100.0  ...                   81.3800   \n",
       "4                  200.0  ...                  157.8743   \n",
       "\n",
       "   Topological polar surface area (Å²)  a (Å)  b (Å)  c (Å)  α (°)  β (°)  \\\n",
       "0                                 17.1  4.685  3.423  5.132     90   99.5   \n",
       "1                                 17.1  3.249  3.249  5.206     90   90.0   \n",
       "2                                 17.1  3.249  3.249  5.206     90   90.0   \n",
       "3                                 17.1  3.249  3.249  5.206     90   90.0   \n",
       "4                                 43.4  5.752  5.752  9.426     90   90.0   \n",
       "\n",
       "   γ (°)  Density (g/cm3)  Viability (%)  \n",
       "0     90             5.94            9.1  \n",
       "1    120             5.44            9.5  \n",
       "2    120             5.44           10.2  \n",
       "3    120             5.44           11.0  \n",
       "4     90             4.59           11.3  \n",
       "\n",
       "[5 rows x 21 columns]"
      ]
     },
     "execution_count": 5,
     "metadata": {},
     "output_type": "execute_result"
    }
   ],
   "source": [
    "# Загрузка датасета\n",
    "db1 = pd.read_excel('Database_1.xlsx')\n",
    "db1.head()"
   ]
  },
  {
   "cell_type": "code",
   "execution_count": 6,
   "metadata": {},
   "outputs": [
    {
     "data": {
      "text/plain": [
       "array(['CuO', 'ZnO', 'Mn2O3', 'CoO', 'CeO2', 'Fe2O3', 'Gd2O3', 'HfO2',\n",
       "       'In2O3', 'La2O3', 'NiO', 'Sb2O3', 'SiO2', 'Al2O3'], dtype=object)"
      ]
     },
     "execution_count": 6,
     "metadata": {},
     "output_type": "execute_result"
    }
   ],
   "source": [
    "# Очистка столбца с типом материала\n",
    "db1['Material type'].unique()"
   ]
  },
  {
   "cell_type": "code",
   "execution_count": 7,
   "metadata": {},
   "outputs": [],
   "source": [
    "# Удаление некоторых столбцов по причине их наличия\n",
    "# у слишком малого количества образцов\n",
    "db1.drop(['a (Å)', 'b (Å)', 'c (Å)', 'α (°)', 'β (°)', 'γ (°)'], axis=1, inplace=True)"
   ]
  },
  {
   "cell_type": "code",
   "execution_count": 8,
   "metadata": {},
   "outputs": [
    {
     "name": "stdout",
     "output_type": "stream",
     "text": [
      "Filled nan for Electronegativity: 100.0%\n",
      "Filled nan for Ionic radius: 100.0%\n",
      "Filled nan for Hydro size (nm): 100.0%\n",
      "Filled nan for Surface area (m2/g): 100.0%\n",
      "Filled nan for Molecular weight (g/mol): 100.0%\n"
     ]
    }
   ],
   "source": [
    "# Заполнение пропусков\n",
    "for col in db1.columns[db1.isna().any()]:\n",
    "    perc = fill_na_with_similar(db1, col)\n",
    "    print(f'Filled nan for {col}: {round(perc * 100, 2)}%')"
   ]
  },
  {
   "cell_type": "code",
   "execution_count": 9,
   "metadata": {},
   "outputs": [
    {
     "name": "stdout",
     "output_type": "stream",
     "text": [
      "<class 'pandas.core.frame.DataFrame'>\n",
      "RangeIndex: 494 entries, 0 to 493\n",
      "Data columns (total 15 columns):\n",
      " #   Column                               Non-Null Count  Dtype  \n",
      "---  ------                               --------------  -----  \n",
      " 0   Material type                        494 non-null    object \n",
      " 1   Elements                             494 non-null    object \n",
      " 2   Electronegativity                    494 non-null    float64\n",
      " 3   Ionic radius                         494 non-null    float64\n",
      " 4   Core size (nm)                       494 non-null    float64\n",
      " 5   Hydro size (nm)                      494 non-null    float64\n",
      " 6   Surface charge (mV)                  494 non-null    float64\n",
      " 7   Surface area (m2/g)                  494 non-null    float64\n",
      " 8   Cell type                            494 non-null    int64  \n",
      " 9   Exposure dose (ug/mL)                494 non-null    float64\n",
      " 10  Number of atoms                      494 non-null    int64  \n",
      " 11  Molecular weight (g/mol)             494 non-null    float64\n",
      " 12  Topological polar surface area (Å²)  494 non-null    float64\n",
      " 13  Density (g/cm3)                      494 non-null    float64\n",
      " 14  Viability (%)                        494 non-null    float64\n",
      "dtypes: float64(11), int64(2), object(2)\n",
      "memory usage: 58.0+ KB\n"
     ]
    }
   ],
   "source": [
    "db1.info()"
   ]
  },
  {
   "cell_type": "code",
   "execution_count": 10,
   "metadata": {},
   "outputs": [],
   "source": [
    "# Сохранение таблицы\n",
    "db1.to_excel('proc_db1.xlsx', index=False)"
   ]
  }
 ],
 "metadata": {
  "kernelspec": {
   "display_name": "Python 3.9.2 64-bit",
   "language": "python",
   "name": "python3"
  },
  "language_info": {
   "codemirror_mode": {
    "name": "ipython",
    "version": 3
   },
   "file_extension": ".py",
   "mimetype": "text/x-python",
   "name": "python",
   "nbconvert_exporter": "python",
   "pygments_lexer": "ipython3",
   "version": "3.9.2"
  },
  "orig_nbformat": 4,
  "vscode": {
   "interpreter": {
    "hash": "865d8b2eb28e274047ba64063dfb6a2aabf0dfec4905d304d7a76618dae6fdd4"
   }
  }
 },
 "nbformat": 4,
 "nbformat_minor": 2
}
