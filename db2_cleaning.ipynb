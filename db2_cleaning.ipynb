{
 "cells": [
  {
   "cell_type": "code",
   "execution_count": 1,
   "metadata": {},
   "outputs": [],
   "source": [
    "# Загрузка библиотек\n",
    "import pandas as pd\n",
    "import numpy as np\n",
    "\n",
    "from funcs import fill_with_mode, clamp"
   ]
  },
  {
   "cell_type": "code",
   "execution_count": 2,
   "metadata": {},
   "outputs": [
    {
     "data": {
      "text/html": [
       "<div>\n",
       "<style scoped>\n",
       "    .dataframe tbody tr th:only-of-type {\n",
       "        vertical-align: middle;\n",
       "    }\n",
       "\n",
       "    .dataframe tbody tr th {\n",
       "        vertical-align: top;\n",
       "    }\n",
       "\n",
       "    .dataframe thead th {\n",
       "        text-align: right;\n",
       "    }\n",
       "</style>\n",
       "<table border=\"1\" class=\"dataframe\">\n",
       "  <thead>\n",
       "    <tr style=\"text-align: right;\">\n",
       "      <th></th>\n",
       "      <th>Nanoparticle</th>\n",
       "      <th>Type: Organic (O)/inorganic (I)</th>\n",
       "      <th>coat</th>\n",
       "      <th>Diameter (nm)</th>\n",
       "      <th>Concentration μM</th>\n",
       "      <th>Zeta potential (mV)</th>\n",
       "      <th>Cells</th>\n",
       "      <th>Cell line (L)/primary cells (P)</th>\n",
       "      <th>Human(H)/Animal(A) cells</th>\n",
       "      <th>Animal?</th>\n",
       "      <th>...</th>\n",
       "      <th>Test</th>\n",
       "      <th>Test indicator</th>\n",
       "      <th>Biochemical metric</th>\n",
       "      <th>% Cell viability</th>\n",
       "      <th>Interference checked (Y/N)</th>\n",
       "      <th>Colloidal stability checked (Y/N)</th>\n",
       "      <th>Positive control (Y/N)</th>\n",
       "      <th>Publication year</th>\n",
       "      <th>Particle ID</th>\n",
       "      <th>Reference DOI</th>\n",
       "    </tr>\n",
       "  </thead>\n",
       "  <tbody>\n",
       "    <tr>\n",
       "      <th>0</th>\n",
       "      <td>CeO2</td>\n",
       "      <td>I</td>\n",
       "      <td>NaN</td>\n",
       "      <td>20.3</td>\n",
       "      <td>0.002478</td>\n",
       "      <td>NaN</td>\n",
       "      <td>L929</td>\n",
       "      <td>L</td>\n",
       "      <td>A</td>\n",
       "      <td>Mouse</td>\n",
       "      <td>...</td>\n",
       "      <td>MTT</td>\n",
       "      <td>tetrazolium salt</td>\n",
       "      <td>cell metabolic activity</td>\n",
       "      <td>105.58918</td>\n",
       "      <td>N</td>\n",
       "      <td>N</td>\n",
       "      <td>N</td>\n",
       "      <td>2015</td>\n",
       "      <td>1</td>\n",
       "      <td>10.1016/j.ceramint.2014.09.095</td>\n",
       "    </tr>\n",
       "    <tr>\n",
       "      <th>1</th>\n",
       "      <td>CeO2</td>\n",
       "      <td>I</td>\n",
       "      <td>NaN</td>\n",
       "      <td>20.3</td>\n",
       "      <td>0.004956</td>\n",
       "      <td>NaN</td>\n",
       "      <td>L929</td>\n",
       "      <td>L</td>\n",
       "      <td>A</td>\n",
       "      <td>Mouse</td>\n",
       "      <td>...</td>\n",
       "      <td>MTT</td>\n",
       "      <td>tetrazolium salt</td>\n",
       "      <td>cell metabolic activity</td>\n",
       "      <td>103.02621</td>\n",
       "      <td>N</td>\n",
       "      <td>N</td>\n",
       "      <td>N</td>\n",
       "      <td>2015</td>\n",
       "      <td>1</td>\n",
       "      <td>10.1016/j.ceramint.2014.09.095</td>\n",
       "    </tr>\n",
       "    <tr>\n",
       "      <th>2</th>\n",
       "      <td>CeO2</td>\n",
       "      <td>I</td>\n",
       "      <td>NaN</td>\n",
       "      <td>20.3</td>\n",
       "      <td>0.009911</td>\n",
       "      <td>NaN</td>\n",
       "      <td>L929</td>\n",
       "      <td>L</td>\n",
       "      <td>A</td>\n",
       "      <td>Mouse</td>\n",
       "      <td>...</td>\n",
       "      <td>MTT</td>\n",
       "      <td>tetrazolium salt</td>\n",
       "      <td>cell metabolic activity</td>\n",
       "      <td>104.85748</td>\n",
       "      <td>N</td>\n",
       "      <td>N</td>\n",
       "      <td>N</td>\n",
       "      <td>2015</td>\n",
       "      <td>1</td>\n",
       "      <td>10.1016/j.ceramint.2014.09.095</td>\n",
       "    </tr>\n",
       "    <tr>\n",
       "      <th>3</th>\n",
       "      <td>CeO2</td>\n",
       "      <td>I</td>\n",
       "      <td>NaN</td>\n",
       "      <td>20.3</td>\n",
       "      <td>0.019823</td>\n",
       "      <td>NaN</td>\n",
       "      <td>L929</td>\n",
       "      <td>L</td>\n",
       "      <td>A</td>\n",
       "      <td>Mouse</td>\n",
       "      <td>...</td>\n",
       "      <td>MTT</td>\n",
       "      <td>tetrazolium salt</td>\n",
       "      <td>cell metabolic activity</td>\n",
       "      <td>100.09670</td>\n",
       "      <td>N</td>\n",
       "      <td>N</td>\n",
       "      <td>N</td>\n",
       "      <td>2015</td>\n",
       "      <td>1</td>\n",
       "      <td>10.1016/j.ceramint.2014.09.095</td>\n",
       "    </tr>\n",
       "    <tr>\n",
       "      <th>4</th>\n",
       "      <td>CeO2</td>\n",
       "      <td>I</td>\n",
       "      <td>NaN</td>\n",
       "      <td>20.3</td>\n",
       "      <td>0.039645</td>\n",
       "      <td>NaN</td>\n",
       "      <td>L929</td>\n",
       "      <td>L</td>\n",
       "      <td>A</td>\n",
       "      <td>Mouse</td>\n",
       "      <td>...</td>\n",
       "      <td>MTT</td>\n",
       "      <td>tetrazolium salt</td>\n",
       "      <td>cell metabolic activity</td>\n",
       "      <td>97.53237</td>\n",
       "      <td>N</td>\n",
       "      <td>N</td>\n",
       "      <td>N</td>\n",
       "      <td>2015</td>\n",
       "      <td>1</td>\n",
       "      <td>10.1016/j.ceramint.2014.09.095</td>\n",
       "    </tr>\n",
       "  </tbody>\n",
       "</table>\n",
       "<p>5 rows × 24 columns</p>\n",
       "</div>"
      ],
      "text/plain": [
       "  Nanoparticle Type: Organic (O)/inorganic (I) coat  Diameter (nm)  \\\n",
       "0         CeO2                               I  NaN           20.3   \n",
       "1         CeO2                               I  NaN           20.3   \n",
       "2         CeO2                               I  NaN           20.3   \n",
       "3         CeO2                               I  NaN           20.3   \n",
       "4         CeO2                               I  NaN           20.3   \n",
       "\n",
       "   Concentration μM  Zeta potential (mV) Cells  \\\n",
       "0          0.002478                  NaN  L929   \n",
       "1          0.004956                  NaN  L929   \n",
       "2          0.009911                  NaN  L929   \n",
       "3          0.019823                  NaN  L929   \n",
       "4          0.039645                  NaN  L929   \n",
       "\n",
       "  Cell line (L)/primary cells (P) Human(H)/Animal(A) cells Animal?  ... Test  \\\n",
       "0                               L                        A   Mouse  ...  MTT   \n",
       "1                               L                        A   Mouse  ...  MTT   \n",
       "2                               L                        A   Mouse  ...  MTT   \n",
       "3                               L                        A   Mouse  ...  MTT   \n",
       "4                               L                        A   Mouse  ...  MTT   \n",
       "\n",
       "     Test indicator       Biochemical metric  % Cell viability  \\\n",
       "0  tetrazolium salt  cell metabolic activity         105.58918   \n",
       "1  tetrazolium salt  cell metabolic activity         103.02621   \n",
       "2  tetrazolium salt  cell metabolic activity         104.85748   \n",
       "3  tetrazolium salt  cell metabolic activity         100.09670   \n",
       "4  tetrazolium salt  cell metabolic activity          97.53237   \n",
       "\n",
       "  Interference checked (Y/N) Colloidal stability checked (Y/N)  \\\n",
       "0                          N                                 N   \n",
       "1                          N                                 N   \n",
       "2                          N                                 N   \n",
       "3                          N                                 N   \n",
       "4                          N                                 N   \n",
       "\n",
       "  Positive control (Y/N)  Publication year Particle ID  \\\n",
       "0                      N              2015           1   \n",
       "1                      N              2015           1   \n",
       "2                      N              2015           1   \n",
       "3                      N              2015           1   \n",
       "4                      N              2015           1   \n",
       "\n",
       "                    Reference DOI  \n",
       "0  10.1016/j.ceramint.2014.09.095  \n",
       "1  10.1016/j.ceramint.2014.09.095  \n",
       "2  10.1016/j.ceramint.2014.09.095  \n",
       "3  10.1016/j.ceramint.2014.09.095  \n",
       "4  10.1016/j.ceramint.2014.09.095  \n",
       "\n",
       "[5 rows x 24 columns]"
      ]
     },
     "execution_count": 2,
     "metadata": {},
     "output_type": "execute_result"
    }
   ],
   "source": [
    "# Загрузка датасета\n",
    "db2 = pd.read_excel('Database_2.xlsx')\n",
    "db2.head()"
   ]
  },
  {
   "cell_type": "code",
   "execution_count": 3,
   "metadata": {},
   "outputs": [],
   "source": [
    "# Ненужные колонки\n",
    "db2.drop(['Publication year', 'Particle ID', 'Reference DOI'], axis=1, inplace=True)"
   ]
  },
  {
   "cell_type": "code",
   "execution_count": 4,
   "metadata": {},
   "outputs": [
    {
     "name": "stdout",
     "output_type": "stream",
     "text": [
      "<class 'pandas.core.frame.DataFrame'>\n",
      "RangeIndex: 2896 entries, 0 to 2895\n",
      "Data columns (total 21 columns):\n",
      " #   Column                              Non-Null Count  Dtype  \n",
      "---  ------                              --------------  -----  \n",
      " 0   Nanoparticle                        2896 non-null   object \n",
      " 1   Type: Organic (O)/inorganic (I)     2896 non-null   object \n",
      " 2   coat                                1052 non-null   object \n",
      " 3   Diameter (nm)                       2896 non-null   float64\n",
      " 4   Concentration μM                    2896 non-null   float64\n",
      " 5   Zeta potential (mV)                 1261 non-null   float64\n",
      " 6   Cells                               2896 non-null   object \n",
      " 7   Cell line (L)/primary cells (P)     2896 non-null   object \n",
      " 8   Human(H)/Animal(A) cells            2896 non-null   object \n",
      " 9   Animal?                             651 non-null    object \n",
      " 10  Cell morphology                     2895 non-null   object \n",
      " 11  Cell age: embryonic (E), Adult (A)  2895 non-null   object \n",
      " 12  Cell-organ/tissue source            2896 non-null   object \n",
      " 13  Exposure time (h)                   2896 non-null   int64  \n",
      " 14  Test                                2895 non-null   object \n",
      " 15  Test indicator                      2895 non-null   object \n",
      " 16  Biochemical metric                  2895 non-null   object \n",
      " 17  % Cell viability                    2896 non-null   float64\n",
      " 18  Interference checked (Y/N)          2896 non-null   object \n",
      " 19  Colloidal stability checked (Y/N)   2896 non-null   object \n",
      " 20  Positive control (Y/N)              2896 non-null   object \n",
      "dtypes: float64(4), int64(1), object(16)\n",
      "memory usage: 475.2+ KB\n"
     ]
    }
   ],
   "source": [
    "# Информация\n",
    "db2.info()"
   ]
  },
  {
   "cell_type": "code",
   "execution_count": 5,
   "metadata": {},
   "outputs": [
    {
     "data": {
      "text/plain": [
       "array(['Mouse', 'unknown', 'Rat', 'Pig',\n",
       "       'Monkey (Cercopithecus aethiops)', 'Canine', 'hamster', 'rat',\n",
       "       'Cow, Bos taurus', 'Mice'], dtype=object)"
      ]
     },
     "execution_count": 5,
     "metadata": {},
     "output_type": "execute_result"
    }
   ],
   "source": [
    "# Очистка столбца с животными\n",
    "db2['Animal?'].fillna('unknown', inplace=True)\n",
    "db2['Animal?'].unique()"
   ]
  },
  {
   "cell_type": "code",
   "execution_count": 6,
   "metadata": {},
   "outputs": [],
   "source": [
    "db2['Animal?'] = db2['Animal?'].replace({\n",
    "    'Mouse': 'rat',\n",
    "    'Mice': 'rat',\n",
    "    'Cow, Bos taurus': 'cow',\n",
    "    'Canine': 'dog'\n",
    "})"
   ]
  },
  {
   "cell_type": "code",
   "execution_count": 7,
   "metadata": {},
   "outputs": [],
   "source": [
    "db2['Animal'] = db2['Animal?'].apply(lambda x: x.lower().split()[0])\n",
    "del db2['Animal?']"
   ]
  },
  {
   "cell_type": "code",
   "execution_count": 8,
   "metadata": {},
   "outputs": [],
   "source": [
    "# Очистка столбца с целевой переменной\n",
    "fill_with_mode(db2['% Cell viability'])"
   ]
  },
  {
   "cell_type": "code",
   "execution_count": 9,
   "metadata": {},
   "outputs": [
    {
     "data": {
      "text/plain": [
       "array(['I', 'O', 0], dtype=object)"
      ]
     },
     "execution_count": 9,
     "metadata": {},
     "output_type": "execute_result"
    }
   ],
   "source": [
    "db2['Type: Organic (O)/inorganic (I)'].unique()"
   ]
  },
  {
   "cell_type": "code",
   "execution_count": 10,
   "metadata": {},
   "outputs": [],
   "source": [
    "# Очистка столбца типа наночастиц\n",
    "db2['is_inorganic'] = db2['Type: Organic (O)/inorganic (I)'].apply(\n",
    "    lambda x: 1 if x == 'I' else 0\n",
    ")\n",
    "del db2['Type: Organic (O)/inorganic (I)']"
   ]
  },
  {
   "cell_type": "code",
   "execution_count": 11,
   "metadata": {},
   "outputs": [
    {
     "data": {
      "text/plain": [
       "array([   nan,   0.  , -39.67, -26.  ,  43.8 , -44.6 ,  44.1 ,  45.2 ,\n",
       "        17.7 ,  12.1 , -23.5 , -27.7 , -17.6 ,  -9.96, -27.8 ,  -8.  ,\n",
       "       -40.5 , -29.  , -30.  , -42.  , -27.  , -11.  ,  87.  ,  58.  ,\n",
       "        79.  ,  30.  ,  32.  , -48.  , -35.9 , -26.8 ,  21.7 ,  -7.6 ,\n",
       "       -20.  , -33.33, -23.1 , -18.4 ,  56.  ,  -5.38,   8.3 ,  21.5 ,\n",
       "        26.5 ,  -8.6 ,  10.  ,  -5.  , -24.  , -19.9 ,  -9.8 , -22.6 ,\n",
       "       -12.3 , -14.6 ,  34.6 ,  30.5 ,  28.8 ,  25.4 ,  15.4 ,  14.3 ,\n",
       "        43.9 ,  47.  ])"
      ]
     },
     "execution_count": 11,
     "metadata": {},
     "output_type": "execute_result"
    }
   ],
   "source": [
    "# Очистка столбца с зета-потенциалом наночастиц\n",
    "db2['Zeta potential (mV)'].unique()"
   ]
  },
  {
   "cell_type": "code",
   "execution_count": 12,
   "metadata": {},
   "outputs": [],
   "source": [
    "db2['Zeta potential (mV)'].fillna(db2['Zeta potential (mV)'].median(), inplace=True)"
   ]
  },
  {
   "cell_type": "code",
   "execution_count": 13,
   "metadata": {},
   "outputs": [],
   "source": [
    "# Переименование столбца с возрастом клетки\n",
    "db2['Cell age'] = db2['Cell age: embryonic (E), Adult (A)']\n",
    "del db2['Cell age: embryonic (E), Adult (A)']"
   ]
  },
  {
   "cell_type": "code",
   "execution_count": 14,
   "metadata": {},
   "outputs": [],
   "source": [
    "# Очистка других столбцов\n",
    "for c in ['Cell age', 'Cell morphology', 'Test', 'Test indicator', 'Biochemical metric']:\n",
    "    fill_with_mode(db2[c])"
   ]
  },
  {
   "cell_type": "code",
   "execution_count": 15,
   "metadata": {},
   "outputs": [],
   "source": [
    "# Очистка столбца 'coat'\n",
    "db2['coat'].fillna('nothing', inplace=True)"
   ]
  },
  {
   "cell_type": "code",
   "execution_count": 16,
   "metadata": {},
   "outputs": [
    {
     "data": {
      "text/plain": [
       "array(['CeO2', 'Se', 'CuO', 'Copper Oxide', 'CuS', 'ZnO', 'Zinc oxide',\n",
       "       'Iron oxide', 'TiO2', 'Ti', 'Cr', 'Co', 'Co3O4', 'CdO', 'MnO',\n",
       "       'Bi', 'Mo', 'Pt', 'Hydroxyapatite', 'Cu2O', 'MgO', 'Al2O3', 'QDs',\n",
       "       'SiO2', 'Au', 'Ag', 'Eudragit RL', 'Dendrimer', 'PLGA',\n",
       "       'Polystyrene', 'Liposomes', 'SLN', 'Carbon Nanotubes', 'Carbon NP',\n",
       "       'Chitosan'], dtype=object)"
      ]
     },
     "execution_count": 16,
     "metadata": {},
     "output_type": "execute_result"
    }
   ],
   "source": [
    "# Очистка столбца с соединениями наночастиц\n",
    "db2['Nanoparticle'].unique()"
   ]
  },
  {
   "cell_type": "code",
   "execution_count": 17,
   "metadata": {},
   "outputs": [],
   "source": [
    "db2['Nanoparticle'].replace({\n",
    "    'Zinc oxide': 'ZnO',\n",
    "    'Copper Oxide': 'CuO',\n",
    "    'Iron oxide': 'Fe2O3'\n",
    "}, inplace=True)"
   ]
  },
  {
   "cell_type": "code",
   "execution_count": 18,
   "metadata": {},
   "outputs": [],
   "source": [
    "# Сохранение таблицы\n",
    "db2.to_excel('proc_db2.xlsx', index=False)"
   ]
  }
 ],
 "metadata": {
  "kernelspec": {
   "display_name": "Python 3.9.2 64-bit",
   "language": "python",
   "name": "python3"
  },
  "language_info": {
   "codemirror_mode": {
    "name": "ipython",
    "version": 3
   },
   "file_extension": ".py",
   "mimetype": "text/x-python",
   "name": "python",
   "nbconvert_exporter": "python",
   "pygments_lexer": "ipython3",
   "version": "3.9.2"
  },
  "orig_nbformat": 4,
  "vscode": {
   "interpreter": {
    "hash": "865d8b2eb28e274047ba64063dfb6a2aabf0dfec4905d304d7a76618dae6fdd4"
   }
  }
 },
 "nbformat": 4,
 "nbformat_minor": 2
}
