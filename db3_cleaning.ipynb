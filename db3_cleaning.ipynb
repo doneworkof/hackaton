{
 "cells": [
  {
   "cell_type": "code",
   "execution_count": 1,
   "metadata": {},
   "outputs": [],
   "source": [
    "# Загрузка библиотек\n",
    "import numpy as np\n",
    "import pandas as pd\n",
    "\n",
    "from matplotlib import pyplot as plt\n",
    "import seaborn as sns\n",
    "\n",
    "from funcs import fill_na_with_similar, fill_with_mode"
   ]
  },
  {
   "cell_type": "code",
   "execution_count": 2,
   "metadata": {},
   "outputs": [
    {
     "data": {
      "text/html": [
       "<div>\n",
       "<style scoped>\n",
       "    .dataframe tbody tr th:only-of-type {\n",
       "        vertical-align: middle;\n",
       "    }\n",
       "\n",
       "    .dataframe tbody tr th {\n",
       "        vertical-align: top;\n",
       "    }\n",
       "\n",
       "    .dataframe thead th {\n",
       "        text-align: right;\n",
       "    }\n",
       "</style>\n",
       "<table border=\"1\" class=\"dataframe\">\n",
       "  <thead>\n",
       "    <tr style=\"text-align: right;\">\n",
       "      <th></th>\n",
       "      <th>No</th>\n",
       "      <th>Year</th>\n",
       "      <th>Material</th>\n",
       "      <th>Type</th>\n",
       "      <th>Shape</th>\n",
       "      <th>Coat/Functional Group</th>\n",
       "      <th>Synthesis_Method</th>\n",
       "      <th>Surface_Charge</th>\n",
       "      <th>Diameter (nm)</th>\n",
       "      <th>Size_in_Water (nm)</th>\n",
       "      <th>...</th>\n",
       "      <th>Cell Line_Primary Cell</th>\n",
       "      <th>Time (hr)</th>\n",
       "      <th>Concentration (ug/ml)</th>\n",
       "      <th>Test</th>\n",
       "      <th>Test_Indicator</th>\n",
       "      <th>Aspect_Ratio</th>\n",
       "      <th>Cell_Viability (%)</th>\n",
       "      <th>PDI</th>\n",
       "      <th>Article_ID</th>\n",
       "      <th>DOI</th>\n",
       "    </tr>\n",
       "  </thead>\n",
       "  <tbody>\n",
       "    <tr>\n",
       "      <th>0</th>\n",
       "      <td>1</td>\n",
       "      <td>2015</td>\n",
       "      <td>SiO2</td>\n",
       "      <td>I</td>\n",
       "      <td>Sphere</td>\n",
       "      <td>CTAB</td>\n",
       "      <td>Precipitation</td>\n",
       "      <td>Negative</td>\n",
       "      <td>NaN</td>\n",
       "      <td>386.9</td>\n",
       "      <td>...</td>\n",
       "      <td>L</td>\n",
       "      <td>12</td>\n",
       "      <td>1.95</td>\n",
       "      <td>MTT</td>\n",
       "      <td>TetrazoliumSalt</td>\n",
       "      <td>NaN</td>\n",
       "      <td>113.670</td>\n",
       "      <td>NaN</td>\n",
       "      <td>1</td>\n",
       "      <td>10.3109/15376516.2015.1070229</td>\n",
       "    </tr>\n",
       "    <tr>\n",
       "      <th>1</th>\n",
       "      <td>2</td>\n",
       "      <td>2015</td>\n",
       "      <td>SiO2</td>\n",
       "      <td>I</td>\n",
       "      <td>Sphere</td>\n",
       "      <td>CTAB</td>\n",
       "      <td>Precipitation</td>\n",
       "      <td>Negative</td>\n",
       "      <td>NaN</td>\n",
       "      <td>386.9</td>\n",
       "      <td>...</td>\n",
       "      <td>L</td>\n",
       "      <td>12</td>\n",
       "      <td>3.90</td>\n",
       "      <td>MTT</td>\n",
       "      <td>TetrazoliumSalt</td>\n",
       "      <td>NaN</td>\n",
       "      <td>97.265</td>\n",
       "      <td>NaN</td>\n",
       "      <td>1</td>\n",
       "      <td>10.3109/15376516.2015.1070229</td>\n",
       "    </tr>\n",
       "    <tr>\n",
       "      <th>2</th>\n",
       "      <td>3</td>\n",
       "      <td>2015</td>\n",
       "      <td>SiO2</td>\n",
       "      <td>I</td>\n",
       "      <td>Sphere</td>\n",
       "      <td>CTAB</td>\n",
       "      <td>Precipitation</td>\n",
       "      <td>Negative</td>\n",
       "      <td>NaN</td>\n",
       "      <td>386.9</td>\n",
       "      <td>...</td>\n",
       "      <td>L</td>\n",
       "      <td>12</td>\n",
       "      <td>7.80</td>\n",
       "      <td>MTT</td>\n",
       "      <td>TetrazoliumSalt</td>\n",
       "      <td>NaN</td>\n",
       "      <td>10873.000</td>\n",
       "      <td>NaN</td>\n",
       "      <td>1</td>\n",
       "      <td>10.3109/15376516.2015.1070229</td>\n",
       "    </tr>\n",
       "    <tr>\n",
       "      <th>3</th>\n",
       "      <td>4</td>\n",
       "      <td>2015</td>\n",
       "      <td>SiO2</td>\n",
       "      <td>I</td>\n",
       "      <td>Sphere</td>\n",
       "      <td>CTAB</td>\n",
       "      <td>Precipitation</td>\n",
       "      <td>Negative</td>\n",
       "      <td>NaN</td>\n",
       "      <td>386.9</td>\n",
       "      <td>...</td>\n",
       "      <td>L</td>\n",
       "      <td>12</td>\n",
       "      <td>15.60</td>\n",
       "      <td>MTT</td>\n",
       "      <td>TetrazoliumSalt</td>\n",
       "      <td>NaN</td>\n",
       "      <td>98.451</td>\n",
       "      <td>NaN</td>\n",
       "      <td>1</td>\n",
       "      <td>10.3109/15376516.2015.1070229</td>\n",
       "    </tr>\n",
       "    <tr>\n",
       "      <th>4</th>\n",
       "      <td>5</td>\n",
       "      <td>2015</td>\n",
       "      <td>SiO2</td>\n",
       "      <td>I</td>\n",
       "      <td>Sphere</td>\n",
       "      <td>CTAB</td>\n",
       "      <td>Precipitation</td>\n",
       "      <td>Negative</td>\n",
       "      <td>NaN</td>\n",
       "      <td>386.9</td>\n",
       "      <td>...</td>\n",
       "      <td>L</td>\n",
       "      <td>12</td>\n",
       "      <td>31.20</td>\n",
       "      <td>MTT</td>\n",
       "      <td>TetrazoliumSalt</td>\n",
       "      <td>NaN</td>\n",
       "      <td>98.056</td>\n",
       "      <td>NaN</td>\n",
       "      <td>1</td>\n",
       "      <td>10.3109/15376516.2015.1070229</td>\n",
       "    </tr>\n",
       "  </tbody>\n",
       "</table>\n",
       "<p>5 rows × 30 columns</p>\n",
       "</div>"
      ],
      "text/plain": [
       "   No  Year Material Type   Shape Coat/Functional Group Synthesis_Method  \\\n",
       "0   1  2015     SiO2    I  Sphere                  CTAB    Precipitation   \n",
       "1   2  2015     SiO2    I  Sphere                  CTAB    Precipitation   \n",
       "2   3  2015     SiO2    I  Sphere                  CTAB    Precipitation   \n",
       "3   4  2015     SiO2    I  Sphere                  CTAB    Precipitation   \n",
       "4   5  2015     SiO2    I  Sphere                  CTAB    Precipitation   \n",
       "\n",
       "  Surface_Charge  Diameter (nm)  Size_in_Water (nm)  ...  \\\n",
       "0       Negative            NaN               386.9  ...   \n",
       "1       Negative            NaN               386.9  ...   \n",
       "2       Negative            NaN               386.9  ...   \n",
       "3       Negative            NaN               386.9  ...   \n",
       "4       Negative            NaN               386.9  ...   \n",
       "\n",
       "   Cell Line_Primary Cell Time (hr)  Concentration (ug/ml) Test  \\\n",
       "0                       L        12                   1.95  MTT   \n",
       "1                       L        12                   3.90  MTT   \n",
       "2                       L        12                   7.80  MTT   \n",
       "3                       L        12                  15.60  MTT   \n",
       "4                       L        12                  31.20  MTT   \n",
       "\n",
       "    Test_Indicator Aspect_Ratio Cell_Viability (%) PDI Article_ID  \\\n",
       "0  TetrazoliumSalt          NaN            113.670 NaN          1   \n",
       "1  TetrazoliumSalt          NaN             97.265 NaN          1   \n",
       "2  TetrazoliumSalt          NaN          10873.000 NaN          1   \n",
       "3  TetrazoliumSalt          NaN             98.451 NaN          1   \n",
       "4  TetrazoliumSalt          NaN             98.056 NaN          1   \n",
       "\n",
       "                             DOI  \n",
       "0  10.3109/15376516.2015.1070229  \n",
       "1  10.3109/15376516.2015.1070229  \n",
       "2  10.3109/15376516.2015.1070229  \n",
       "3  10.3109/15376516.2015.1070229  \n",
       "4  10.3109/15376516.2015.1070229  \n",
       "\n",
       "[5 rows x 30 columns]"
      ]
     },
     "execution_count": 2,
     "metadata": {},
     "output_type": "execute_result"
    }
   ],
   "source": [
    "# Загрузка датасета\n",
    "db3 = pd.read_excel('Database_3.xlsx')\n",
    "db3.head()"
   ]
  },
  {
   "cell_type": "code",
   "execution_count": 3,
   "metadata": {},
   "outputs": [],
   "source": [
    "# Удаление ненужных столбцов\n",
    "db3.drop(['Year', 'No', 'Article_ID', 'DOI'], axis=1, inplace=True)"
   ]
  },
  {
   "cell_type": "code",
   "execution_count": 4,
   "metadata": {},
   "outputs": [
    {
     "data": {
      "text/plain": [
       "array(['SiO2', 'QD', 'IronOxide', 'Bi', 'Au', 'Ag', 'TiO2', 'Dendrimer',\n",
       "       'Dendrmer', 'PLGA', 'Alginate', 'PTFE-PMMA', 'ZnO', 'Pt', 'CuO',\n",
       "       'CeO2', 'Co3O4', 'MWCNT', 'HAP', 'MgO', 'Polystyrene', 'Ni',\n",
       "       'Chitosan', 'Al2O3', 'SLN', 'EudragitRL', 'Carbon', 'ZrO2', 'C60',\n",
       "       'C70', 'SWCNT', 'Diamond', 'Graphite', 'Fe2O3', 'IronOide', 'NiO',\n",
       "       'Ay', 'Cu', 'Ce O2', 'Bi2O3'], dtype=object)"
      ]
     },
     "execution_count": 4,
     "metadata": {},
     "output_type": "execute_result"
    }
   ],
   "source": [
    "# Очищение столбца с материалом НЧ\n",
    "db3['Material'].unique()"
   ]
  },
  {
   "cell_type": "code",
   "execution_count": 5,
   "metadata": {},
   "outputs": [],
   "source": [
    "db3['Material'].replace({\n",
    "    'IronOxide': 'Fe2O3',\n",
    "    'IronOide': 'Fe2O3',\n",
    "    'Ay': 'Au'\n",
    "}, inplace=True)"
   ]
  },
  {
   "cell_type": "code",
   "execution_count": 7,
   "metadata": {},
   "outputs": [
    {
     "data": {
      "text/plain": [
       "array(['I', 'O', 'C', 0], dtype=object)"
      ]
     },
     "execution_count": 7,
     "metadata": {},
     "output_type": "execute_result"
    }
   ],
   "source": [
    "# Очищение столбца органичности материала\n",
    "db3['Type'].unique()"
   ]
  },
  {
   "cell_type": "code",
   "execution_count": 8,
   "metadata": {},
   "outputs": [],
   "source": [
    "db3['is_inorganic'] = (db3['Type'] == 'I').astype('int32')\n",
    "db3.drop('Type', axis=1, inplace=True)"
   ]
  },
  {
   "cell_type": "code",
   "execution_count": 9,
   "metadata": {},
   "outputs": [
    {
     "name": "stdout",
     "output_type": "stream",
     "text": [
      "<class 'pandas.core.frame.DataFrame'>\n",
      "RangeIndex: 4111 entries, 0 to 4110\n",
      "Data columns (total 26 columns):\n",
      " #   Column                    Non-Null Count  Dtype  \n",
      "---  ------                    --------------  -----  \n",
      " 0   Material                  4111 non-null   object \n",
      " 1   Shape                     4111 non-null   object \n",
      " 2   Coat/Functional Group     4110 non-null   object \n",
      " 3   Synthesis_Method          4111 non-null   object \n",
      " 4   Surface_Charge            3112 non-null   object \n",
      " 5   Diameter (nm)             3278 non-null   float64\n",
      " 6   Size_in_Water (nm)        2330 non-null   float64\n",
      " 7   Size_in_Medium (nm)       1989 non-null   float64\n",
      " 8   Zeta_in_Water (mV)        2487 non-null   object \n",
      " 9   Zeta_in_Medium (mV)       1670 non-null   float64\n",
      " 10  Cell_Type                 4111 non-null   object \n",
      " 11  No_of_Cells (cells/well)  3684 non-null   float64\n",
      " 12  Human_Animal              4111 non-null   object \n",
      " 13  Cell_Source               4110 non-null   object \n",
      " 14  Cell_Tissue               4111 non-null   object \n",
      " 15  Cell_Morphology           4111 non-null   object \n",
      " 16  Cell_Age                  4111 non-null   object \n",
      " 17  Cell Line_Primary Cell    4111 non-null   object \n",
      " 18  Time (hr)                 4111 non-null   int64  \n",
      " 19  Concentration (ug/ml)     3889 non-null   float64\n",
      " 20  Test                      4111 non-null   object \n",
      " 21  Test_Indicator            4111 non-null   object \n",
      " 22  Aspect_Ratio              380 non-null    float64\n",
      " 23  Cell_Viability (%)        4111 non-null   float64\n",
      " 24  PDI                       1000 non-null   float64\n",
      " 25  is_inorganic              4111 non-null   int32  \n",
      "dtypes: float64(9), int32(1), int64(1), object(15)\n",
      "memory usage: 819.1+ KB\n"
     ]
    }
   ],
   "source": [
    "db3.info()"
   ]
  },
  {
   "cell_type": "code",
   "execution_count": 10,
   "metadata": {},
   "outputs": [
    {
     "name": "stdout",
     "output_type": "stream",
     "text": [
      "<class 'str'> 15O\n"
     ]
    }
   ],
   "source": [
    "# Выявление ошибочных значений\n",
    "for i in db3['Zeta_in_Water (mV)']:\n",
    "    if type(i) not in [int, float]:\n",
    "        print(type(i), i)"
   ]
  },
  {
   "cell_type": "code",
   "execution_count": 11,
   "metadata": {},
   "outputs": [],
   "source": [
    "db3['Zeta_in_Water (mV)'].replace({\n",
    "    '15O': 150\n",
    "}, inplace=True)"
   ]
  },
  {
   "cell_type": "code",
   "execution_count": 12,
   "metadata": {},
   "outputs": [
    {
     "name": "stdout",
     "output_type": "stream",
     "text": [
      "Score for \"Zeta_in_Water (mV)\" is 0.9798873692679002\n",
      "Score for \"Zeta_in_Medium (mV)\" is 0.9479041916167664\n"
     ]
    }
   ],
   "source": [
    "# Попытка понять, от чего зависит колонка \"Surface_Charge\"\n",
    "for col in ['Zeta_in_Water (mV)', 'Zeta_in_Medium (mV)']:\n",
    "    correct = 0\n",
    "    incorrect = 0\n",
    "\n",
    "    ids = np.where(1 - (db3[col].isna() | db3['Surface_Charge'].isna()))[0]\n",
    "\n",
    "    for idx in ids:\n",
    "        if db3['Surface_Charge'][idx] == 'Positive' and db3[col][idx] >= 0.25:\n",
    "            correct += 1\n",
    "        elif db3['Surface_Charge'][idx] == 'Negative' and db3[col][idx] <= -0.25:\n",
    "            correct += 1\n",
    "        elif db3['Surface_Charge'][idx] == 'Neutral' and abs(db3[col][idx]) < 0.25:\n",
    "            correct += 1\n",
    "        else:\n",
    "            incorrect += 1\n",
    "    \n",
    "    print(f'Score for \"{col}\" is {correct / (correct + incorrect)}')"
   ]
  },
  {
   "cell_type": "code",
   "execution_count": 13,
   "metadata": {},
   "outputs": [],
   "source": [
    "# Сильно зависит от обоих колонок, можно удалить\n",
    "db3.drop('Surface_Charge', axis=1, inplace=True)"
   ]
  },
  {
   "cell_type": "code",
   "execution_count": 14,
   "metadata": {},
   "outputs": [
    {
     "data": {
      "text/html": [
       "<div>\n",
       "<style scoped>\n",
       "    .dataframe tbody tr th:only-of-type {\n",
       "        vertical-align: middle;\n",
       "    }\n",
       "\n",
       "    .dataframe tbody tr th {\n",
       "        vertical-align: top;\n",
       "    }\n",
       "\n",
       "    .dataframe thead th {\n",
       "        text-align: right;\n",
       "    }\n",
       "</style>\n",
       "<table border=\"1\" class=\"dataframe\">\n",
       "  <thead>\n",
       "    <tr style=\"text-align: right;\">\n",
       "      <th></th>\n",
       "      <th>Zeta_in_Water (mV)</th>\n",
       "      <th>Zeta_in_Medium (mV)</th>\n",
       "    </tr>\n",
       "  </thead>\n",
       "  <tbody>\n",
       "    <tr>\n",
       "      <th>Zeta_in_Water (mV)</th>\n",
       "      <td>1.000000</td>\n",
       "      <td>0.459561</td>\n",
       "    </tr>\n",
       "    <tr>\n",
       "      <th>Zeta_in_Medium (mV)</th>\n",
       "      <td>0.459561</td>\n",
       "      <td>1.000000</td>\n",
       "    </tr>\n",
       "  </tbody>\n",
       "</table>\n",
       "</div>"
      ],
      "text/plain": [
       "                     Zeta_in_Water (mV)  Zeta_in_Medium (mV)\n",
       "Zeta_in_Water (mV)             1.000000             0.459561\n",
       "Zeta_in_Medium (mV)            0.459561             1.000000"
      ]
     },
     "execution_count": 14,
     "metadata": {},
     "output_type": "execute_result"
    }
   ],
   "source": [
    "# Корреляция двух похожих колонок\n",
    "db3.filter(['Zeta_in_Water (mV)', 'Zeta_in_Medium (mV)']).dropna().corr()"
   ]
  },
  {
   "cell_type": "code",
   "execution_count": 15,
   "metadata": {},
   "outputs": [],
   "source": [
    "# Заполнение пропусков\n",
    "db3['Coat/Functional Group'].fillna('None', inplace=True)"
   ]
  },
  {
   "cell_type": "code",
   "execution_count": 16,
   "metadata": {},
   "outputs": [],
   "source": [
    "# Удаление ненужных колонок\n",
    "db3.drop(['No_of_Cells (cells/well)', 'Cell_Source', 'PDI'], axis=1, inplace=True)"
   ]
  },
  {
   "cell_type": "code",
   "execution_count": 17,
   "metadata": {},
   "outputs": [
    {
     "name": "stdout",
     "output_type": "stream",
     "text": [
      "Score for \"Diameter (nm)\" is 79.71%\n",
      "Score for \"Size_in_Water (nm)\" is 86.75%\n",
      "Score for \"Size_in_Medium (nm)\" is 81.39%\n",
      "Score for \"Zeta_in_Water (mV)\" is 89.04%\n",
      "Score for \"Zeta_in_Medium (mV)\" is 79.31%\n",
      "Score for \"Concentration (ug/ml)\" is 53.15%\n",
      "Score for \"Aspect_Ratio\" is 48.41%\n"
     ]
    }
   ],
   "source": [
    "# Заполнение пустот\n",
    "for col in db3.columns[db3.isna().any()]:\n",
    "    score = fill_na_with_similar(db3, col, key='Material')\n",
    "    fill_with_mode(db3[col])\n",
    "    print(f'Score for \"{col}\" is {round(score * 100, 2)}%')"
   ]
  },
  {
   "cell_type": "code",
   "execution_count": 18,
   "metadata": {},
   "outputs": [
    {
     "data": {
      "text/plain": [
       "array(['SiO2', 'QD', 'Fe2O3', 'Bi', 'Au', 'Ag', 'TiO2', 'Dendrimer',\n",
       "       'Dendrmer', 'PLGA', 'Alginate', 'PTFE-PMMA', 'ZnO', 'Pt', 'CuO',\n",
       "       'CeO2', 'Co3O4', 'MWCNT', 'HAP', 'MgO', 'Polystyrene', 'Ni',\n",
       "       'Chitosan', 'Al2O3', 'SLN', 'EudragitRL', 'Carbon', 'ZrO2', 'C60',\n",
       "       'C70', 'SWCNT', 'Diamond', 'Graphite', 'NiO', 'Cu', 'Ce O2',\n",
       "       'Bi2O3'], dtype=object)"
      ]
     },
     "execution_count": 18,
     "metadata": {},
     "output_type": "execute_result"
    }
   ],
   "source": [
    "# Замена некоторых названий материалов\n",
    "db3['Material'].unique()"
   ]
  },
  {
   "cell_type": "code",
   "execution_count": 19,
   "metadata": {},
   "outputs": [],
   "source": [
    "db3['Material'].replace({\n",
    "    'Dendrmer': 'Dendrimer',\n",
    "    'MWCNT': 'Carbon NT',\n",
    "    'SWCNT': 'Carbon NT',\n",
    "    'Ce O2': 'CeO2'\n",
    "}, inplace=True)"
   ]
  },
  {
   "cell_type": "code",
   "execution_count": 20,
   "metadata": {},
   "outputs": [],
   "source": [
    "# Сохранение таблицы\n",
    "db3.to_excel('proc_db3.xlsx', index=False)"
   ]
  },
  {
   "cell_type": "code",
   "execution_count": null,
   "metadata": {},
   "outputs": [],
   "source": []
  }
 ],
 "metadata": {
  "kernelspec": {
   "display_name": "Python 3.9.2 64-bit",
   "language": "python",
   "name": "python3"
  },
  "language_info": {
   "codemirror_mode": {
    "name": "ipython",
    "version": 3
   },
   "file_extension": ".py",
   "mimetype": "text/x-python",
   "name": "python",
   "nbconvert_exporter": "python",
   "pygments_lexer": "ipython3",
   "version": "3.9.2"
  },
  "orig_nbformat": 4,
  "vscode": {
   "interpreter": {
    "hash": "865d8b2eb28e274047ba64063dfb6a2aabf0dfec4905d304d7a76618dae6fdd4"
   }
  }
 },
 "nbformat": 4,
 "nbformat_minor": 2
}
